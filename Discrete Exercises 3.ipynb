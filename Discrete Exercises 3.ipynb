{
 "cells": [
  {
   "cell_type": "markdown",
   "metadata": {},
   "source": [
    "## MATH2231 Discrete Mathematics with Computation\n",
    "## Computer exercise 3\n",
    "**Date:** 23 March 2019\n",
    "\n",
    "**Submit by:** 30 March 2019 at 1:00pm on [Upload assignment](https://minerva.leeds.ac.uk/webapps/assignment/uploadAssignment?content_id=_6236974_1&course_id=_478400_1&group_id=&mode=view)"
   ]
  },
  {
   "cell_type": "markdown",
   "metadata": {},
   "source": [
    "**Name:** Samuel Kettlewell\n",
    "\n",
    "**Username:** ll16sjk"
   ]
  },
  {
   "cell_type": "markdown",
   "metadata": {},
   "source": [
    "### Instructions\n",
    "1. Write your answers in the empty cells after each question.\n",
    "1. Please **add comments** when requested. You will not get a full mark if comments are missing.\n",
    "1. Click `Run` in the Toolbar to run the code in the cell you are currently working on.\n",
    "1. Before submitting, please: (a) check that you have run the code in each cell, and (b) click on the save icon.\n",
    "1. Upload this notebook on Minerva by the deadline.\n",
    "1. Please note that **only code saved in this notebook is accepted as submission**. Any other type of file will be discarded.\n",
    "1. You **may not import any module** unless explicitly instructed to do so."
   ]
  },
  {
   "cell_type": "markdown",
   "metadata": {},
   "source": [
    "We are going to represent our graph as ***vertex and edge lists***, that is as a ***pair of lists*** $(V,E)$,\n",
    "where $V$ is a list of distinct characters and $E$ is a list of pairs of elements of $V$.\n",
    "\n",
    "This is different from the previous Computer Exercises in which we used adjacency lists for our graphs.\n",
    "Having a distinct list for the edges is useful for defining weight functions.\n",
    "\n",
    "#### Graph Representation\n",
    "For instance:\n",
    "```python\n",
    "V = ['a','b','c','d']\n",
    "E = [(V[0],V[1]),(V[0],V[2]),(V[0],V[3]),(V[1],V[3])]\n",
    "G = (V,E)\n",
    "```\n",
    "\n",
    "#### Weight Function\n",
    "In Python, we represent the weight function as a **dictionary** `{E[0] : w0, E[1] : w1, ...}`, where `w0` is the weight assigned to edge `E[0]`.\n",
    "\n",
    "For instance:\n",
    "```python\n",
    "mu = {E[0]: 2,\n",
    "      E[1]: 1,\n",
    "      E[2]: 4,\n",
    "      E[3]: 2}\n",
    "```"
   ]
  },
  {
   "cell_type": "markdown",
   "metadata": {},
   "source": [
    "## Exercise 1\n",
    "\n",
    "In this exercise you will implement Kruskal's algorithm for finding a minimal connector of a connected graph."
   ]
  },
  {
   "cell_type": "markdown",
   "metadata": {},
   "source": [
    "**(a)** Define a function `findEdgeOfMinimalWeight(mu,E)` that takes a weight function `mu` and a list of edges `E`, and returns any edge in `E` which has minimal weight.\n",
    "\n",
    "Ensure your function returns something indicating an error if the edge set is empty.\n",
    "\n",
    "Test your function by printing the output for:\n",
    "```python\n",
    "V = ['a','b','c','d','e','f']\n",
    "E = [(V[0],V[1]),  (V[0],V[2]),  (V[0],V[3]),\n",
    "     (V[1],V[3]),  (V[1],V[4]),\n",
    "     (V[2],V[4]),  (V[4],V[5])]\n",
    "mu = {E[0]: 2, E[1]: 1, E[2]: 4, E[3]: 2, E[4]: 3, E[5]: 3, E[6]: 1}\n",
    "```"
   ]
  },
  {
   "cell_type": "code",
   "execution_count": 1,
   "metadata": {},
   "outputs": [
    {
     "data": {
      "text/plain": [
       "[('a', 'c'), ('e', 'f')]"
      ]
     },
     "execution_count": 1,
     "metadata": {},
     "output_type": "execute_result"
    }
   ],
   "source": [
    "#Define the lists and dictionaries corresponding to the vertcies, edges and weight function.\n",
    "V = ['a','b','c','d','e','f']\n",
    "E = [(V[0],V[1]),  (V[0],V[2]),  (V[0],V[3]),\n",
    "     (V[1],V[3]),  (V[1],V[4]),\n",
    "     (V[2],V[4]),  (V[4],V[5])]\n",
    "mu = {E[0]: 2, E[1]: 1, E[2]: 4, E[3]: 2, E[4]: 3, E[5]: 3, E[6]: 1}\n",
    "\n",
    "\n",
    "def findEdgeOfMinimalWeight(mu, E):\n",
    "    #If the edge set is empty then there is no edge of minimal weight.\n",
    "    if len(E) == 0:\n",
    "        print(\"Error: Edge Set Empty\")\n",
    "        return []\n",
    "    \n",
    "    #Obtain a list of edges and a list of weights from the dictionary representing the weight function. \n",
    "    weights = [each_weight for each_weight in mu.values()]\n",
    "\n",
    "    #Find the minimal weight of all edges in the graph.\n",
    "    min_weight = min(weights)\n",
    "    \n",
    "    #Iterate through all the edges, if any edge has weight equal to min_weight then append that edge to the list\n",
    "    minimal_edges = []\n",
    "    for corresponding_edges in enumerate(weights):\n",
    "        if corresponding_edges[1] == min_weight:\n",
    "            minimal_edges.append(E[corresponding_edges[0]])\n",
    "    \n",
    "    #Return the list of minimal edges.\n",
    "    return minimal_edges\n",
    "\n",
    "#Find the minimal edges of the graph defined above.\n",
    "findEdgeOfMinimalWeight(mu, E)"
   ]
  },
  {
   "cell_type": "markdown",
   "metadata": {},
   "source": [
    "**(b)** Define a recursive function `doesPathExistBetweenVertices(u,v, V, E)` that takes two vertices `u` and `v`, a vertex/edge pair of lists `V` and `E`, and returns `True` or `False` depening on whether a path from `u` to `v` can be formed by the edges in `E`.\n",
    "\n",
    "Recall that you developed the function `canReachA(GA,i,j,visited)` in Computer Exercises 2.\n",
    "Feel free to reuse this function however remember that `canReachA` expectes a dictionary representing an adjacency list,\n",
    "so either adapt the method to the list representation or make your `doesPathExistBetweenVertices` function convert `(V,E)` to an adjacency list representation.\n",
    "\n",
    "Test your function on the graph from part (a) by testing whether you can reach $f$ from $a$. Test it again this time removing edge $ac$ from $E$, then test again after removing $ef$ from $E$."
   ]
  },
  {
   "cell_type": "code",
   "execution_count": 2,
   "metadata": {},
   "outputs": [
    {
     "name": "stdout",
     "output_type": "stream",
     "text": [
      "True\n",
      "True\n",
      "True\n",
      "False\n"
     ]
    }
   ],
   "source": [
    "def doesPathExistBetweenVertices(u, v, V, E, visited = None):\n",
    "    #For the very first case, if the visited argument is None, it is the 'parent' call of the function so start with an empty list.\n",
    "    if visited is None:\n",
    "        visited = []\n",
    "    \n",
    "    #If u and v are the same vertex then there is a (trivial) path from u to v and vice versa.\n",
    "    if u == v:\n",
    "        return True\n",
    "    \n",
    "    #If we have already visited vertex i, then we must have looped back on ourselves and found all the vertices in this connected component.\n",
    "    if u in visited:\n",
    "        return False\n",
    "\n",
    "    #If we reach this point in the code it means i is a 'new'/unvisited vertex, so add it to the visited list\n",
    "    visited.append(u)\n",
    "\n",
    "    #Create a list of vertices adjacent to u. - I chose not to use list comprehension for readability.\n",
    "    u_adj_vertices = []\n",
    "    for each_edge in E:\n",
    "        if u in each_edge:\n",
    "            u_pos = each_edge.index(u)\n",
    "            if u_pos == 1:\n",
    "                u_adj_vertices.append(each_edge[0])\n",
    "            elif u_pos == 0:\n",
    "                u_adj_vertices.append(each_edge[1])\n",
    "    \n",
    "    #Iterate through the vertices adjacent to u and recursively call the function to check whether we can reach\n",
    "    for vertex in u_adj_vertices:\n",
    "        if doesPathExistBetweenVertices(vertex, v, V, E, visited):\n",
    "            return True\n",
    "\n",
    "    #If we reach this point in the code, then we can't reach u from v (or vice versa) so there exists no path between them.\n",
    "    return False\n",
    "\n",
    "#Redefine the edge list - Just to be sure\n",
    "E = [(V[0],V[1]),  (V[0],V[2]),  (V[0],V[3]),\n",
    "     (V[1],V[3]),  (V[1],V[4]),\n",
    "     (V[2],V[4]),  (V[4],V[5])]\n",
    "\n",
    "#We expect this to return True since we could get from a to f by: a -> c -> e -> f\n",
    "print(doesPathExistBetweenVertices('a', 'f', V, E))\n",
    "\n",
    "#We also test it works both ways, that is, it can recognise the reverse path from f to a also\n",
    "print(doesPathExistBetweenVertices('f', 'a', V, E))\n",
    "\n",
    "#We expect this to return True also since we could get from a to f -also- by: a -> b -> e -> f\n",
    "E.remove(('a', 'c'))\n",
    "print(doesPathExistBetweenVertices('a', 'f', V, E))\n",
    "\n",
    "#We expect this to return False since the only way to reach f is going through e and the edge ef has been removed\n",
    "E.remove(('e', 'f'))\n",
    "print(doesPathExistBetweenVertices('a', 'f', V, E))\n",
    "\n",
    "#Redefine it for use in later questions to makre sure it doesn't mess up!\n",
    "E = [(V[0],V[1]),  (V[0],V[2]),  (V[0],V[3]),\n",
    "     (V[1],V[3]),  (V[1],V[4]),\n",
    "     (V[2],V[4]),  (V[4],V[5])]"
   ]
  },
  {
   "cell_type": "markdown",
   "metadata": {},
   "source": [
    "**(c)** Define a function `Kruskal(V, E, mu, Edges)` that takes the lists `V` and `E` of a graph, a weight function `mu` and a list of edges `Edges`, and returns a minimal connector for $G = (V,E)$.\n",
    "\n",
    "The idea is that `Kruskal` performs the $i^{\\mathrm{th}}$ step in the algorithm from the lectures, `Edges` should contain all the previous edge choices $e_1,\\dots,e_{i - 1}$, so it should return `Edges` along with an additional choice, and your initial call to it will pass an empty list of `Edges`.\n",
    "\n",
    "Make use of recursion in your code, for instance try something of the form\n",
    "```python\n",
    "def Kruskal(V, E, mu, Edges):\n",
    "    Let i be the length of Edges\n",
    "    Let n the number of vertices\n",
    "    \n",
    "    if i == n - 1:\n",
    "        Finished\n",
    "    \n",
    "    #  Let EE be the subset of E such that\n",
    "    #  introducing an element of EE does not\n",
    "    #  introduce a cycle\n",
    "    EE = [e for e in E if ...]\n",
    "    \n",
    "    Let edge be the edge of EE of minimal weight\n",
    "    \n",
    "    #Possibly return a message in the case where no edge\n",
    "    #  can be found, to help with debugging\n",
    "    \n",
    "    #Add edge to Edges and remove edge from E\n",
    "    # Be mindful of not editing E itself,\n",
    "    # as that could cause side effects outside\n",
    "    # the function, instead create a copy\n",
    "    \n",
    "    #Call Kruskal recursive with E smaller by one\n",
    "    # and Edges bigger by one,\n",
    "    # and return the result\n",
    "```\n",
    "Add brief comments explaining your code.\n",
    "\n",
    "To determine which edges to include in EE think about what what has to be true in `Edges`\n",
    "for an edge in `E` to introduce a cycle.\n",
    "\n",
    "Test the function works on the graph and weight function defined in part (a)."
   ]
  },
  {
   "cell_type": "code",
   "execution_count": 3,
   "metadata": {},
   "outputs": [
    {
     "data": {
      "text/plain": [
       "[('a', 'c'), ('e', 'f'), ('a', 'b'), ('b', 'd'), ('b', 'e')]"
      ]
     },
     "execution_count": 3,
     "metadata": {},
     "output_type": "execute_result"
    }
   ],
   "source": [
    "def Kruskal(V, E, mu, Edges = []):\n",
    "    #If there are no edges left in E, return the Edges list calculated recursively.\n",
    "    if len(E) == 0:\n",
    "        return Edges\n",
    "    \n",
    "    #Obtain a list of the edges of minimal weight using the function defined above.\n",
    "    min_weight_edges = findEdgeOfMinimalWeight(mu, E)\n",
    "    \n",
    "    #Iterate through the edges of minimal weight, if there isn't already a path between the two vertices in each edge\n",
    "    #from the list of Edges already calculated, (i.e. introducing this path won't introduce a cycle) then append the\n",
    "    #edge to Edges set.\n",
    "    for each_edge in min_weight_edges:\n",
    "        if not doesPathExistBetweenVertices(each_edge[0], each_edge[1], V, Edges):\n",
    "            Edges.append((each_edge[0], each_edge[1]))\n",
    "    \n",
    "    #Create a copy of the edge list and weight function so as not to mess up global variables.\n",
    "    E_copy = [x for x in E if x not in min_weight_edges]\n",
    "    mu_copy = {x: mu[x] for x in mu.keys() if x in E_copy}\n",
    "    \n",
    "    #Recursively call Kruskal with the Edges calculated in this step.\n",
    "    return Kruskal(V, E_copy, mu_copy, Edges)\n",
    "\n",
    "Kruskal(V, E, mu)"
   ]
  },
  {
   "cell_type": "markdown",
   "metadata": {},
   "source": [
    "**(d)** Use the plotting functions from Practical 2 to print out the graphs used above, that is print out $(V,E)$, and the minimal connector found by Kruskal's algorithm."
   ]
  },
  {
   "cell_type": "code",
   "execution_count": 13,
   "metadata": {},
   "outputs": [
    {
     "data": {
      "image/png": "[encoded data removed]",
      "text/plain": [
       "<Figure size 432x288 with 1 Axes>"
      ]
     },
     "metadata": {},
     "output_type": "display_data"
    }
   ],
   "source": [
    "#I will assume this in an explicit instruction (since it's in practical 2) to import the networkx module (so as not to violate the rules.)\n",
    "import networkx as nx\n",
    "\n",
    "def drawGraph(V, E):\n",
    "    G = nx.Graph()\n",
    "    G.add_nodes_from(V)\n",
    "    G.add_edges_from(E)\n",
    "    nx.draw(G)\n",
    "    \n",
    "    return None\n",
    "\n",
    "#Draw the graph G=(V,E)\n",
    "drawGraph(V, E)"
   ]
  },
  {
   "cell_type": "code",
   "execution_count": 5,
   "metadata": {},
   "outputs": [
    {
     "data": {
      "image/png": "[encoded data removed]",
      "text/plain": [
       "<Figure size 432x288 with 1 Axes>"
      ]
     },
     "metadata": {},
     "output_type": "display_data"
    }
   ],
   "source": [
    "#Draw the graph H=(V,E) - The minimal spanning tree produced by Kruskal's algorithm\n",
    "drawGraph(V, Kruskal(V, E, mu))"
   ]
  },
  {
   "cell_type": "markdown",
   "metadata": {},
   "source": [
    "## Exercise 2\n",
    "\n",
    "In this exercise you will implement Dijkstra's algorithm to find the lowest possible weight of a path between two vertices."
   ]
  },
  {
   "cell_type": "markdown",
   "metadata": {},
   "source": [
    "**(a)** Define a function `findVertexOfMinimalWeight(L,V)` as an analogue of the `findEdgeOfMinimalWeight` function from the last exercise.\n",
    "\n",
    "Use the graph from the previous exercise and the following (vertex) weight function to test it\n",
    "```python\n",
    "L = {V[0]: 3,\n",
    "     V[1]: 7,\n",
    "     V[2]: 8,\n",
    "     V[3]: 2,\n",
    "     V[4]: 14,\n",
    "     V[5]: 7}\n",
    "```\n",
    "\n",
    "Change `L[V[2]]` to 1 and retest your function."
   ]
  },
  {
   "cell_type": "code",
   "execution_count": 6,
   "metadata": {},
   "outputs": [
    {
     "name": "stdout",
     "output_type": "stream",
     "text": [
      "['d']\n",
      "['c']\n"
     ]
    }
   ],
   "source": [
    "#Define the vertex weight function\n",
    "L = {V[0]: 3,\n",
    "     V[1]: 7,\n",
    "     V[2]: 8,\n",
    "     V[3]: 2,\n",
    "     V[4]: 14,\n",
    "     V[5]: 7}\n",
    "\n",
    "\n",
    "def findVertexOfMinimalWeight(L, V):\n",
    "    #This clause removes any extra vertices from the dictionary. Only those in V get scanned for minimality. Necessary for 2b\n",
    "    if len(L) != len(V):\n",
    "        dict_vertices_to_remove = [v for v in L.keys() if v not in V]\n",
    "        for each_vertex_to_remove in dict_vertices_to_remove:\n",
    "            del L[each_vertex_to_remove]\n",
    "    \n",
    "    #Obtain the weights of each vertex from the dictionary L\n",
    "    vertex_weights = [weight for weight in L.values()]\n",
    "    \n",
    "    #Find the minimal weight of all the vertices\n",
    "    min_weight = min(vertex_weights)\n",
    "    \n",
    "    #Iterate back through each element of the dictionary, if any element has weight equal to min_weight, add it to the list\n",
    "    minimal_weights = []\n",
    "    for each_vertex, each_weight in L.items():\n",
    "        if each_weight == min_weight:\n",
    "            minimal_weights.append(each_vertex)\n",
    "    \n",
    "    #Return the list of minimal weights\n",
    "    return minimal_weights\n",
    "\n",
    "#Test it produces the correct result - We expect 'd'\n",
    "print(findVertexOfMinimalWeight(L, V))\n",
    "\n",
    "#We now expect 'c'\n",
    "L[V[2]] = 1\n",
    "print(findVertexOfMinimalWeight(L, V))"
   ]
  },
  {
   "cell_type": "markdown",
   "metadata": {},
   "source": [
    "**(b)** Implement Dijkstra's algorithm from Tutorial 4 for finding the smallest weight of a path between two vertices.\n",
    "\n",
    "Your function should be of the form `Dijkstra(V,E,mu, a,z)` where `V,E,mu` are as above and `a,z` are vertices.\n",
    "\n",
    "Then test your function on the graph and weight function from the previous exercise and find the cost of the cheapest path from $c$ to $d$."
   ]
  },
  {
   "cell_type": "code",
   "execution_count": 7,
   "metadata": {},
   "outputs": [
    {
     "data": {
      "text/plain": [
       "5"
      ]
     },
     "execution_count": 7,
     "metadata": {},
     "output_type": "execute_result"
    }
   ],
   "source": [
    "def Dijkstra(V, E, mu, a, z):\n",
    "    #Define a dictionary containing the vertices and their corresponding 'weights'/distances from each other.\n",
    "    L = {vertex: float('inf') for vertex, weight in zip(V, range(len(V)))}\n",
    "    \n",
    "    L[a] = 0 #We begin at vertex a, set this weight/distance 0.\n",
    "    \n",
    "    S = [] #Define a list of unvisited vertices.\n",
    "    \n",
    "    #While the target vertex is unvisited, we remain in this loop.\n",
    "    while z not in S:\n",
    "        not_S = [x for x in V if x not in S] #Produce a list of all unvisited vertices. That is,  all v in V which aren't in S\n",
    "        u = findVertexOfMinimalWeight(L, not_S) #Find the unvisited vertex with the minimal weight\n",
    "        \n",
    "        #Rather than extend, in case there's more than one equidistant vertex.\n",
    "        #Just deal with the first one here and let the loop take care of the rest.\n",
    "        S.append(u[0])\n",
    "\n",
    "        not_S = [x for x in V if x not in S] #Reproduuce the list of unvisited vertices again\n",
    "        \n",
    "        #Iterate over the unvisited vertices\n",
    "        for v in not_S:\n",
    "            u = u[0] #Unpack the vertex from the list.\n",
    "            \n",
    "            #If the edge (u, v) is in the graph\n",
    "            if (u, v) in E:\n",
    "                \n",
    "                #If the distance to vertex v by this path is less than the current distance stored in L, replace the L value with this distance.\n",
    "                if L[u] + mu[(u, v)] < L[v]:\n",
    "                    L[v] = L[u] + mu[(u, v)]\n",
    "              \n",
    "            #If the edge (v, u) is in the graph\n",
    "            elif (v, u) in E:\n",
    "                \n",
    "                #If the distance to vertex v by this path is less than the current distance stored in L, replace the L value with this distance.\n",
    "                if L[u] + mu[(v, u)] < L[v]:\n",
    "                    L[v] = L[u] + mu[(v, u)]\n",
    "    \n",
    "    #Return the weight of the smallest possible weighted path from a->z\n",
    "    return L[z]\n",
    "\n",
    "#Test the function returns what we expect: we expect the minimal path c -> d to have length 5.\n",
    "Dijkstra(V, E, mu, 'c', 'd')"
   ]
  },
  {
   "cell_type": "markdown",
   "metadata": {},
   "source": [
    "**(c)**\n",
    "Print out a table showing the cheapest paths from every vertex to every other vertex.\n",
    "\n",
    "Your code should be in the form of a function of the form `printCosts(V,E,mu)` that is flexible enough to work over any graph.\n",
    "\n",
    "Comment about anything you notice about the table, for instance: symmetry, diagonal values, try to explain these features."
   ]
  },
  {
   "cell_type": "code",
   "execution_count": 8,
   "metadata": {},
   "outputs": [
    {
     "name": "stdout",
     "output_type": "stream",
     "text": [
      "a->a: 0\n",
      "a->b: 2\n",
      "a->c: 1\n",
      "a->d: 4\n",
      "a->e: 4\n",
      "a->f: 5\n",
      "\n",
      "b->a: 2\n",
      "b->b: 0\n",
      "b->c: 3\n",
      "b->d: 2\n",
      "b->e: 3\n",
      "b->f: 4\n",
      "\n",
      "c->a: 1\n",
      "c->b: 3\n",
      "c->c: 0\n",
      "c->d: 5\n",
      "c->e: 3\n",
      "c->f: 4\n",
      "\n",
      "d->a: 4\n",
      "d->b: 2\n",
      "d->c: 5\n",
      "d->d: 0\n",
      "d->e: 5\n",
      "d->f: 6\n",
      "\n",
      "e->a: 4\n",
      "e->b: 3\n",
      "e->c: 3\n",
      "e->d: 5\n",
      "e->e: 0\n",
      "e->f: 1\n",
      "\n",
      "f->a: 5\n",
      "f->b: 4\n",
      "f->c: 4\n",
      "f->d: 6\n",
      "f->e: 1\n",
      "f->f: 0\n",
      "\n",
      "[[0, 2, 1, 4, 4, 5], [2, 0, 3, 2, 3, 4], [1, 3, 0, 5, 3, 4], [4, 2, 5, 0, 5, 6], [4, 3, 3, 5, 0, 1], [5, 4, 4, 6, 1, 0]]\n"
     ]
    },
    {
     "data": {
      "text/plain": [
       "'If I could figure out how to tabulate the data in a presentable fashion. We should obsersve symmetry about the main diagonal \\nsince the shortest path from b->a is also the shorted path a->b. The diagonal values are all 0 trivially because they correspond\\nto the distance between a vertex and itself which is 0.'"
      ]
     },
     "execution_count": 8,
     "metadata": {},
     "output_type": "execute_result"
    }
   ],
   "source": [
    "def printCosts(V, E, mu):\n",
    "    #Define a matrix to store the 'tabulated' data\n",
    "    matrix = [[] for i in range(len(V))]\n",
    "\n",
    "    #Iterate over each vertex in V twice over (effectively produce V x V (cartesian product))\n",
    "    for each_vertex in V:\n",
    "        for each_vertex_2 in V:\n",
    "            \n",
    "            #Calculate the minimal distance between vertices each_vertex and each_vertex_2 using the function above.\n",
    "            cost = Dijkstra(V, E, mu, each_vertex, each_vertex_2)\n",
    "            \n",
    "            #Add to the appropriate row of the matrix the minimal distance previously calculated\n",
    "            matrix[V.index(each_vertex)].append(cost)\n",
    "            \n",
    "            #Stylise and print the minimal distance between every two vertices on the graph.\n",
    "            print(str(each_vertex) + \"->\" + str(each_vertex_2) + \": \" + str(cost))\n",
    "        \n",
    "        print(\"\") #Newline\n",
    "        \n",
    "    return matrix\n",
    "\n",
    "#Print the cheapest path from every vertex to every other vertex for the graph defined above.\n",
    "print(printCosts(V, E, mu))\n",
    "\n",
    "\"\"\"If I could figure out how to tabulate the data in a presentable fashion. We should obsersve symmetry about the main diagonal \n",
    "since the shortest path from b->a is also the shorted path a->b. The diagonal values are all 0 trivially because they correspond\n",
    "to the distance between a vertex and itself which is 0.\"\"\""
   ]
  },
  {
   "cell_type": "markdown",
   "metadata": {},
   "source": [
    "## Exercise 3\n",
    "\n",
    "In this exercise you will develop function to generate all graphs on $n$ vertices and functions to refine your list to exclude isomorphic and disconnected graphs."
   ]
  },
  {
   "cell_type": "markdown",
   "metadata": {},
   "source": [
    "**(a)** Create a function `generateAllGraphs(V)` that creates all graphs on vertex set `V`.\n",
    "\n",
    "Recall that the edge set of a graph is a subset $V^{\\{2\\}} = \\{S \\subseteq V \\colon |S| = 2\\}$,\n",
    "so the set of all graphs is in one-one correspondence with the set of all subsets of $V^{\\{2\\}}$.\n",
    "\n",
    "Your function should return a pair `(V,E)` where `E` is the edge list.\n",
    "\n",
    "Test it by generating all graphs on 4, and then 5 vertices.\n",
    "Why would it not be a good idea to test it on 6 or 7 vertices?"
   ]
  },
  {
   "cell_type": "code",
   "execution_count": 9,
   "metadata": {},
   "outputs": [
    {
     "name": "stdout",
     "output_type": "stream",
     "text": [
      "[(['a', 'b', 'c', 'd'], []), (['a', 'b', 'c', 'd'], [('a', 'b')]), (['a', 'b', 'c', 'd'], [('a', 'c')]), (['a', 'b', 'c', 'd'], [('a', 'd')]), (['a', 'b', 'c', 'd'], [('b', 'c')]), (['a', 'b', 'c', 'd'], [('b', 'd')]), (['a', 'b', 'c', 'd'], [('c', 'd')]), (['a', 'b', 'c', 'd'], [('a', 'c'), ('a', 'b')]), (['a', 'b', 'c', 'd'], [('a', 'd'), ('a', 'b')]), (['a', 'b', 'c', 'd'], [('b', 'c'), ('a', 'b')]), (['a', 'b', 'c', 'd'], [('b', 'd'), ('a', 'b')]), (['a', 'b', 'c', 'd'], [('c', 'd'), ('a', 'b')]), (['a', 'b', 'c', 'd'], [('a', 'd'), ('a', 'c')]), (['a', 'b', 'c', 'd'], [('b', 'c'), ('a', 'c')]), (['a', 'b', 'c', 'd'], [('b', 'd'), ('a', 'c')]), (['a', 'b', 'c', 'd'], [('c', 'd'), ('a', 'c')]), (['a', 'b', 'c', 'd'], [('b', 'c'), ('a', 'd')]), (['a', 'b', 'c', 'd'], [('b', 'd'), ('a', 'd')]), (['a', 'b', 'c', 'd'], [('c', 'd'), ('a', 'd')]), (['a', 'b', 'c', 'd'], [('b', 'd'), ('b', 'c')]), (['a', 'b', 'c', 'd'], [('c', 'd'), ('b', 'c')]), (['a', 'b', 'c', 'd'], [('c', 'd'), ('b', 'd')]), (['a', 'b', 'c', 'd'], [('a', 'd'), ('a', 'c'), ('a', 'b')]), (['a', 'b', 'c', 'd'], [('b', 'c'), ('a', 'c'), ('a', 'b')]), (['a', 'b', 'c', 'd'], [('b', 'd'), ('a', 'c'), ('a', 'b')]), (['a', 'b', 'c', 'd'], [('c', 'd'), ('a', 'c'), ('a', 'b')]), (['a', 'b', 'c', 'd'], [('b', 'c'), ('a', 'd'), ('a', 'b')]), (['a', 'b', 'c', 'd'], [('b', 'd'), ('a', 'd'), ('a', 'b')]), (['a', 'b', 'c', 'd'], [('c', 'd'), ('a', 'd'), ('a', 'b')]), (['a', 'b', 'c', 'd'], [('b', 'd'), ('b', 'c'), ('a', 'b')]), (['a', 'b', 'c', 'd'], [('c', 'd'), ('b', 'c'), ('a', 'b')]), (['a', 'b', 'c', 'd'], [('c', 'd'), ('b', 'd'), ('a', 'b')]), (['a', 'b', 'c', 'd'], [('b', 'c'), ('a', 'd'), ('a', 'c')]), (['a', 'b', 'c', 'd'], [('b', 'd'), ('a', 'd'), ('a', 'c')]), (['a', 'b', 'c', 'd'], [('c', 'd'), ('a', 'd'), ('a', 'c')]), (['a', 'b', 'c', 'd'], [('b', 'd'), ('b', 'c'), ('a', 'c')]), (['a', 'b', 'c', 'd'], [('c', 'd'), ('b', 'c'), ('a', 'c')]), (['a', 'b', 'c', 'd'], [('c', 'd'), ('b', 'd'), ('a', 'c')]), (['a', 'b', 'c', 'd'], [('b', 'd'), ('b', 'c'), ('a', 'd')]), (['a', 'b', 'c', 'd'], [('c', 'd'), ('b', 'c'), ('a', 'd')]), (['a', 'b', 'c', 'd'], [('c', 'd'), ('b', 'd'), ('a', 'd')]), (['a', 'b', 'c', 'd'], [('c', 'd'), ('b', 'd'), ('b', 'c')]), (['a', 'b', 'c', 'd'], [('b', 'c'), ('a', 'd'), ('a', 'c'), ('a', 'b')]), (['a', 'b', 'c', 'd'], [('b', 'd'), ('a', 'd'), ('a', 'c'), ('a', 'b')]), (['a', 'b', 'c', 'd'], [('c', 'd'), ('a', 'd'), ('a', 'c'), ('a', 'b')]), (['a', 'b', 'c', 'd'], [('b', 'd'), ('b', 'c'), ('a', 'c'), ('a', 'b')]), (['a', 'b', 'c', 'd'], [('c', 'd'), ('b', 'c'), ('a', 'c'), ('a', 'b')]), (['a', 'b', 'c', 'd'], [('c', 'd'), ('b', 'd'), ('a', 'c'), ('a', 'b')]), (['a', 'b', 'c', 'd'], [('b', 'd'), ('b', 'c'), ('a', 'd'), ('a', 'b')]), (['a', 'b', 'c', 'd'], [('c', 'd'), ('b', 'c'), ('a', 'd'), ('a', 'b')]), (['a', 'b', 'c', 'd'], [('c', 'd'), ('b', 'd'), ('a', 'd'), ('a', 'b')]), (['a', 'b', 'c', 'd'], [('c', 'd'), ('b', 'd'), ('b', 'c'), ('a', 'b')]), (['a', 'b', 'c', 'd'], [('b', 'd'), ('b', 'c'), ('a', 'd'), ('a', 'c')]), (['a', 'b', 'c', 'd'], [('c', 'd'), ('b', 'c'), ('a', 'd'), ('a', 'c')]), (['a', 'b', 'c', 'd'], [('c', 'd'), ('b', 'd'), ('a', 'd'), ('a', 'c')]), (['a', 'b', 'c', 'd'], [('c', 'd'), ('b', 'd'), ('b', 'c'), ('a', 'c')]), (['a', 'b', 'c', 'd'], [('c', 'd'), ('b', 'd'), ('b', 'c'), ('a', 'd')])]\n",
      "\n",
      "638\n"
     ]
    }
   ],
   "source": [
    "#We reimplement the subsets of size k function from Exercises 1 modifying it slightly to accept lists instead of integers.\n",
    "def subsets_k(edge_list, k):\n",
    "    #If k = 0 then the only subset is the empty set.\n",
    "    if k == 0:\n",
    "        return [[]]\n",
    "    \n",
    "    #If the edge list is empty then there are no subsets.\n",
    "    if len(edge_list) == 0:\n",
    "        return []\n",
    "    \n",
    "    #Take a slice of edge_list, remove the first element\n",
    "    edge_list_slice = edge_list[1:]\n",
    "    \n",
    "    #Recursively call subsets\n",
    "    subsets = subsets_k(edge_list_slice, k-1)\n",
    "    \n",
    "    #Iterate through the above subsets and add the first element back to them (divide and conquer strategy)\n",
    "    for each_subset in subsets:\n",
    "        each_subset.append(edge_list[0])\n",
    "        \n",
    "    #Return the concatenation of the supsets calculated in this step and the recursive call to the next step.\n",
    "    return subsets + subsets_k(edge_list_slice, k)\n",
    "\n",
    "\n",
    "\n",
    "\n",
    "\"\"\"Unfortunately, because I have no idea what 'your function should return a pair (V, E) means' (recursion?). I will have to\n",
    "tackle this problem slightly differently and accept losing some marks.\"\"\"\n",
    "def generateAllGraphs(V): \n",
    "    #Step 1 - We wish to generate a list of all possible edges.\n",
    "    edges = []\n",
    "    \n",
    "    #Iterate through the vertex list twice over (effectively produce the Cartesian product)\n",
    "    for v1 in V:\n",
    "        for v2 in V:\n",
    "            \n",
    "            #Since there exists no edge between a vertex and itself we rule this case out\n",
    "            if v1 != v2:\n",
    "                \n",
    "                #Since we do not want both (u, v) and (v, u) for vertices u,v to be included in the edge list we rule this case out.\n",
    "                if V.index(v1) < V.index(v2):\n",
    "                    edges.append((v1, v2)) #Append the edge to the edge list\n",
    "        \n",
    "        \n",
    "    #Step 2 - We wish to generate a list of all possible combinations of these edges (inc. those of different lengths).\n",
    "    edge_combinations = []\n",
    "    \n",
    "    #Iterate through the range {0, 1, 2, ..., n} as we want to find all combinaions of the edge set above with each of those lengths.\n",
    "    for n in range(len(V)+1):\n",
    "        \n",
    "        #Using the subsets_k function defined above, calculate all combinations of length n.\n",
    "        edge_combinations.extend(subsets_k(edges, n))\n",
    "    \n",
    "    #Using list comprehension, return a list containing tuples (V, E) where E is the edge set of the every graph upto n vertices.\n",
    "    return [(V, edge_combinations[n]) for n in range(len(edge_combinations))]\n",
    "\n",
    "\n",
    "#We test the function behaves as we want it to. It's a bit difficult to see but it is correct.\n",
    "print(generateAllGraphs(['a', 'b', 'c', 'd']))\n",
    "print(\"\")\n",
    "print(len(generateAllGraphs(['a', 'b', 'c', 'd', 'e'])))\n",
    "\n",
    "\n",
    "#For n vertices, there are exactly 2^(n(n-1)/2) graphs. This is why we shouldn't test it with 6 or 7 vertices."
   ]
  },
  {
   "cell_type": "markdown",
   "metadata": {},
   "source": [
    "**(b)** Recall the function `isIsomorphicA(GA,HA)` from Practical 2.\n",
    "\n",
    "Reimplement that function here so that it accepts vertex and edge lists `(V,E)` instead of adjacency lists."
   ]
  },
  {
   "cell_type": "code",
   "execution_count": 10,
   "metadata": {},
   "outputs": [
    {
     "name": "stdout",
     "output_type": "stream",
     "text": [
      "True\n",
      "True\n",
      "False\n"
     ]
    }
   ],
   "source": [
    "def isIsomorphicA(G, H, f):\n",
    "    \n",
    "    #If the two graphs have a different number of vertices, then they are not isomorphic.\n",
    "    if len(G[0]) != len(H[0]):\n",
    "        return False\n",
    "    \n",
    "    #If the two graphs have a different number of edges, then they are not isomorphic.\n",
    "    if len(G[1]) != len(H[1]):\n",
    "        return False\n",
    "    \n",
    "    #It reamins to check that any neighbours in the preimage graph G, remain neighbours in the image graph H.\n",
    "    \n",
    "    #For each vertex in the vertex set of G\n",
    "    for v in G[0]:\n",
    "        #Obtain the image of vertex i under bijection f \n",
    "        v_index = G[0].index(v)\n",
    "        v_image = G[0][f[v_index]]\n",
    "        \n",
    "        #Generate a list of vertices adjacent to v using a method similar to that in 1b. Not list comprehension for readability\n",
    "        neighbours_of_v = []\n",
    "        for each_edge in G[1]:\n",
    "            if v in each_edge:\n",
    "                v_pos = each_edge.index(v)\n",
    "                if v_pos == 1:\n",
    "                    neighbours_of_v.append(each_edge[0])\n",
    "                elif v_pos == 0:\n",
    "                    neighbours_of_v.append(each_edge[1])\n",
    "\n",
    "                    \n",
    "        #Loop through the neighbours of v\n",
    "        for each_neighbour in neighbours_of_v:\n",
    "            #Obtain the image of each neighbour under bijection f.\n",
    "            neighbour_image = G[0][f[G[0].index(each_neighbour)]]\n",
    "            \n",
    "            #We now require that the image of the neighbour is a neighbour to the image of v.\n",
    "            \n",
    "            #We can check this by looking to see if the appropriate edge exists in H's edge set. If it doesn't, return False\n",
    "            if (v_image, neighbour_image) not in H[1]:\n",
    "                if (neighbour_image, v_image) not in H[1]:\n",
    "                    return False\n",
    "    \n",
    "    #If we reach this point in the code, we have checked all required conditions and none are violated so it is an isomorphism.\n",
    "    return True\n",
    "\n",
    "\n",
    "#Define some test graphs\n",
    "G = (['a', 'b', 'c', 'd'], [('a', 'b'), ('b', 'c'), ('a', 'd')])\n",
    "H = (['a', 'b', 'c', 'd'], [('a', 'b'), ('b', 'c'), ('a', 'd')])\n",
    "graphs = generateAllGraphs(['a', 'b', 'c'])\n",
    "\n",
    "#Check the function behaves as we expect it to. The first two should return True, the third False.\n",
    "print(isIsomorphicA(graphs[1], graphs[2], (0,2,1)))\n",
    "print(isIsomorphicA(G, H, (0, 1, 2, 3)))\n",
    "print(isIsomorphicA(G, H, (0, 2, 1, 3)))"
   ]
  },
  {
   "cell_type": "markdown",
   "metadata": {},
   "source": [
    "**(c)** Recall the function `isConnectedA(GA)` from Computer Exercises 2.\n",
    "\n",
    "Reimplement that function here so that it accepts vertex and edge lists `(V,E)` instead of an adjacency list."
   ]
  },
  {
   "cell_type": "code",
   "execution_count": 11,
   "metadata": {},
   "outputs": [
    {
     "name": "stdout",
     "output_type": "stream",
     "text": [
      "True\n",
      "False\n"
     ]
    }
   ],
   "source": [
    "def isConnected(G):\n",
    "    #Extract the first vertex from the vertex list of G=(V, E) and place it in a list.\n",
    "    first_vertex = G[0][0]\n",
    "    vertices_list = [first_vertex]\n",
    "    \n",
    "    #Iterate through vertices_list\n",
    "    for v in vertices_list:\n",
    "        \n",
    "        #Generate a list containing the neighbours of each vertex currently in vertices_list \n",
    "        neighbours_of_v = []\n",
    "        for each_edge in G[1]:\n",
    "            if v in each_edge:\n",
    "                v_pos = each_edge.index(v)\n",
    "                if v_pos == 1:\n",
    "                    neighbours_of_v.append(each_edge[0])\n",
    "                elif v_pos == 0:\n",
    "                    neighbours_of_v.append(each_edge[1])\n",
    "        \n",
    "        #For each neighbour of every vertex in vertices_list, if the neighbour is not already in the list, put it in.\n",
    "        for each_neighbour in neighbours_of_v:\n",
    "            if each_neighbour not in vertices_list:\n",
    "                vertices_list.append(each_neighbour)\n",
    "    \n",
    "    #At this point, we have generated a list of all the vertices connected to the first vertex in V. So check if the list\n",
    "    #of this connected component is the vertex set. (NB: this is assigning a boolean to 'connected')\n",
    "    connected = len(vertices_list) == len(G[0])\n",
    "    \n",
    "    return connected\n",
    "\n",
    "\n",
    "#Check the function behaves as we expect. We expect the first example to return True and the second, False.\n",
    "G = (['a', 'b', 'c'], [('a', 'b'), ('b', 'c')])\n",
    "print(isConnected(G))\n",
    "\n",
    "H = (['a', 'b', 'c'], [('a', 'b')])\n",
    "print(isConnected(H))"
   ]
  },
  {
   "cell_type": "markdown",
   "metadata": {},
   "source": [
    "**(d)** Reimplement the function from part (a) to create a function `generateAllConnectedNonisomorphicGraphs(V)` using the functions from (b) and (c).\n",
    "\n",
    "Test it by generating all connected non-isomorphic graphs on 5 and then 6 vertices."
   ]
  },
  {
   "cell_type": "code",
   "execution_count": 12,
   "metadata": {},
   "outputs": [
    {
     "data": {
      "text/plain": [
       "[(['a', 'b', 'c'], [('a', 'c'), ('a', 'b')]),\n",
       " (['a', 'b', 'c'], [('b', 'c'), ('a', 'b')]),\n",
       " (['a', 'b', 'c'], [('b', 'c'), ('a', 'c')]),\n",
       " (['a', 'b', 'c'], [('b', 'c'), ('a', 'c'), ('a', 'b')])]"
      ]
     },
     "execution_count": 12,
     "metadata": {},
     "output_type": "execute_result"
    }
   ],
   "source": [
    "#Reimplementing 3a -\n",
    "#We \n",
    "def generateAllConnectedNonisomorphicGraphs(V): \n",
    "    #Step 1 - We wish to generate a list of all possible edges.\n",
    "    edges = []\n",
    "    \n",
    "    #Iterate through the vertex list twice over (effectively produce the Cartesian product)\n",
    "    for v1 in V:\n",
    "        for v2 in V:\n",
    "            \n",
    "            #Since there exists no edge between a vertex and itself we rule this case out\n",
    "            if v1 != v2:\n",
    "                \n",
    "                #Since we do not want both (u, v) and (v, u) for vertices u,v to be included in the edge list we rule this case out.\n",
    "                if V.index(v1) < V.index(v2):\n",
    "                    edges.append((v1, v2)) #Append the edge to the edge list\n",
    "        \n",
    "        \n",
    "    #Step 2 - We wish to generate a list of all possible combinations of these edges (inc. those of different lengths).\n",
    "    edge_combinations = []\n",
    "    \n",
    "    #Iterate through the range {0, 1, 2, ..., n} as we want to find all combinaions of the edge set above with each of those lengths.\n",
    "    for n in range(len(V)+1):\n",
    "        \n",
    "        #Using the subsets_k function defined above, calculate all combinations of length n.\n",
    "        edge_combinations.extend(subsets_k(edges, n))\n",
    "    \n",
    "    #Obtain all the connected graphs on V.\n",
    "    connected = [(V, edge_combinations[n]) for n in range(len(edge_combinations)) if isConnected((V, edge_combinations[n]))]\n",
    "    \n",
    "    #Now we check, for each graph in the connected list, if it's isomorphic to any other.\n",
    "    ###UNSURE ABOUT HOW TO PROCEED WITH THIS ONE :(\n",
    "    for each_graph in connected:\n",
    "        other_graphs = [graph for graph in connected if graph != each_graph]\n",
    "        \n",
    "        for other_graph in other_graphs:\n",
    "            for f in [(0,1,2)]: #What is supposed to go here?\n",
    "                if isIsomorphicA(each_graph, other_graph, f):\n",
    "                    connected.remove(each_graph)\n",
    "    \n",
    "    \n",
    "    #Using list comprehension, return a list containing tuples (V, E) where E is the edge set of the every graph upto n vertices.\n",
    "    return connected\n",
    "\n",
    "generateAllConnectedNonisomorphicGraphs(['a', 'b', 'c'])"
   ]
  },
  {
   "cell_type": "code",
   "execution_count": null,
   "metadata": {},
   "outputs": [],
   "source": []
  }
 ],
 "metadata": {
  "kernelspec": {
   "display_name": "Python 3",
   "language": "python",
   "name": "python3"
  },
  "language_info": {
   "codemirror_mode": {
    "name": "ipython",
    "version": 3
   },
   "file_extension": ".py",
   "mimetype": "text/x-python",
   "name": "python",
   "nbconvert_exporter": "python",
   "pygments_lexer": "ipython3",
   "version": "3.6.5"
  }
 },
 "nbformat": 4,
 "nbformat_minor": 2
}
