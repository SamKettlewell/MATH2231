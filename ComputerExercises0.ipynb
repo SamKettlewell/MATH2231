{
 "cells": [
  {
   "cell_type": "markdown",
   "metadata": {},
   "source": [
    "# MATH2231 Discrete Mathematics with Computation\n",
    "## Computer exercise 1\n",
    "**Date:** 22 February 2019\n",
    "\n",
    "**Submit by:** 1 March 2019 at 1:00pm on this [Minerva page](https://minerva.leeds.ac.uk/webapps/assignment/uploadAssignment?content_id=_6216580_1&course_id=_478400_1&group_id=&mode=cpview)"
   ]
  },
  {
   "cell_type": "markdown",
   "metadata": {},
   "source": [
    "**Name:** Samuel Kettlewell\n",
    "\n",
    "**Username:** ll16sjk"
   ]
  },
  {
   "cell_type": "markdown",
   "metadata": {},
   "source": [
    "### Instructions\n",
    "1. Write your answers in the empty cells after each question.\n",
    "1. Please add comments to your code when requested.\n",
    "1. Click `Run` in the Toolbar to run the code in the cell you are currently working on.\n",
    "1. Before submitting, please: (a) check that you have run the code in each cell, and (b) click on the save icon.\n",
    "1. Upload this notebook on Minerva by the deadline.\n",
    "1. Please note that **only code saved in this notebook is accepted as submission**. Any other type of file will be discarded."
   ]
  },
  {
   "cell_type": "markdown",
   "metadata": {},
   "source": [
    "## Exercise 1"
   ]
  },
  {
   "cell_type": "markdown",
   "metadata": {},
   "source": [
    "**(a)** Define a function `subsets(n)` that given a natural number $n$ as input, returns the list of all subsets of $\\{1,\\ldots, n\\}$ (in no particular order). Do **not** use the code from Computer exercise 0.\n",
    "\n",
    "**Note.** For this, you should work recursively. In the case $n = 0$, you can give the answer directly. For the case $n > 0$, observe that there are two kinds of subsets of $\\{1, …, n-1, n\\}$: those that contain $n$, and...\n",
    "\n",
    "Please add some (brief!) comments explaining your code."
   ]
  },
  {
   "cell_type": "code",
   "execution_count": 83,
   "metadata": {},
   "outputs": [
    {
     "data": {
      "text/plain": [
       "[[], [1], [2], [2, 1], [3], [3, 1], [3, 2], [3, 2, 1]]"
      ]
     },
     "execution_count": 83,
     "metadata": {},
     "output_type": "execute_result"
    }
   ],
   "source": [
    "\"\"\"\"This should work recursively: For the case n=0, the empty set, there is 1 subset. To achieve n>0 we 'clone and add.' \n",
    "This involves seperating the last element from the list and calling the function recursively for the list of n-1 elements. \n",
    "Then, when all the recursive calls have been completed, append to each subset a 'clone' of the final element that was\n",
    "seperated off.\"\"\"\n",
    "\n",
    "def subsets(n):\n",
    "    \n",
    "    if n == 0:\n",
    "        return [[]] #If n = 0, the only subset is the empty set.\n",
    "\n",
    "    set_upto_n = [s for s in range(1, n+1)] #Create the set {1,2,...,n}\n",
    "    final_element, start_slice = set_upto_n[-1], set_upto_n[:-1] #Chop the last element from the list\n",
    "    \n",
    "    smaller_subsets = subsets(n-1) #Call the function on the smaller sub_list\n",
    "    cloned_subsets = [[final_element] + smaller_subset for smaller_subset in smaller_subsets] #For each final element you've chopped off, add it to the smaller_sublist\n",
    "    \n",
    "    return smaller_subsets + cloned_subsets\n",
    "\n",
    "subsets(3)"
   ]
  },
  {
   "cell_type": "markdown",
   "metadata": {},
   "source": [
    "**(b)** Print the output of `subsets(n)` for $n = 2, 3, 4$."
   ]
  },
  {
   "cell_type": "code",
   "execution_count": 84,
   "metadata": {},
   "outputs": [
    {
     "name": "stdout",
     "output_type": "stream",
     "text": [
      "The subsets of 2 are: [[], [1], [2], [2, 1]]\n",
      "The subsets of 3 are: [[], [1], [2], [2, 1], [3], [3, 1], [3, 2], [3, 2, 1]]\n",
      "The subsets of 4 are: [[], [1], [2], [2, 1], [3], [3, 1], [3, 2], [3, 2, 1], [4], [4, 1], [4, 2], [4, 2, 1], [4, 3], [4, 3, 1], [4, 3, 2], [4, 3, 2, 1]]\n"
     ]
    }
   ],
   "source": [
    "print(\"The subsets of 2 are: \" + str(subsets(2)))\n",
    "print(\"The subsets of 3 are: \" + str(subsets(3)))\n",
    "print(\"The subsets of 4 are: \" + str(subsets(4)))"
   ]
  },
  {
   "cell_type": "markdown",
   "metadata": {},
   "source": [
    "**(c)** Print the length of the list `subsets(n)` next to the number of subsets of $\\{1, \\ldots, n\\}$ predicted by the formula seen in Lecture 2 for $n = 3, \\ldots, 15$.\n",
    "\n",
    "You are encouraged to try larger values of $n$, although it will become perceptibly slow around $n = 23$ (also depending on your computer)."
   ]
  },
  {
   "cell_type": "code",
   "execution_count": 85,
   "metadata": {},
   "outputs": [
    {
     "name": "stdout",
     "output_type": "stream",
     "text": [
      "Set length: 1: True number of subsets: 2, Predicted number of subsets: 2\n",
      "Set length: 2: True number of subsets: 4, Predicted number of subsets: 4\n",
      "Set length: 3: True number of subsets: 8, Predicted number of subsets: 8\n",
      "Set length: 4: True number of subsets: 16, Predicted number of subsets: 16\n",
      "Set length: 5: True number of subsets: 32, Predicted number of subsets: 32\n",
      "Set length: 6: True number of subsets: 64, Predicted number of subsets: 64\n",
      "Set length: 7: True number of subsets: 128, Predicted number of subsets: 128\n",
      "Set length: 8: True number of subsets: 256, Predicted number of subsets: 256\n",
      "Set length: 9: True number of subsets: 512, Predicted number of subsets: 512\n",
      "Set length: 10: True number of subsets: 1024, Predicted number of subsets: 1024\n"
     ]
    }
   ],
   "source": [
    "#Corollary 5 of the lecture 2 notes states |P(A)| = 2^A hence\n",
    "for set_length in range(1, 11):\n",
    "    print(\"Set length: \" + str(set_length) + \n",
    "          \": True number of subsets: \" + str(len(subsets(set_length))) + \n",
    "          \", Predicted number of subsets: \" + str(2**set_length))"
   ]
  },
  {
   "cell_type": "markdown",
   "metadata": {},
   "source": [
    "**(d)** Define a function `subsets_k(n,k)` that given $n,k$ as input, returns the list of all subsets of $\\{1, \\ldots, n\\}$ of size at most $k$ (in no particular order). Do **not** use the code from Computer exercise 0.\n",
    "\n",
    "Print the value of `subsets_k(27,2)`.\n",
    "\n",
    "**Note.** Do not use `subsets(n)` directly, or the above computation will never end! Rather, tweak the code of `subsets(n)`: a subset of $\\{1,\\ldots,n\\}$ of size at most $k$ either contains $n$, or...\n",
    "\n",
    "Please add some (brief!) comments explaining the differences with `subsets(n)`."
   ]
  },
  {
   "cell_type": "code",
   "execution_count": 94,
   "metadata": {},
   "outputs": [
    {
     "data": {
      "text/plain": [
       "[[1, 4], [1, 3], [1, 2]]"
      ]
     },
     "execution_count": 94,
     "metadata": {},
     "output_type": "execute_result"
    }
   ],
   "source": [
    "\"\"\"Unfortunately, I was only able to get this function to work for subsets of size exactly k. I feel like the recursive\n",
    "solution is just out of my reach and it's annyoing! Please advise.\"\"\"\n",
    "def subsets_k(n, k):\n",
    "    \n",
    "    if n == 0 or n < k or k < 0:\n",
    "        return [] #If n = 0 or n < k or k < 0 then there are no subsets satisfying these criteria.\n",
    "    \n",
    "    if n == k: #The only subset of length n is {1,2,...,n}\n",
    "        return [[x for x in range(1, n+1)]]\n",
    "    \n",
    "    subsets_with_additions = [s + [n] for s in subsets_k(n-1, k-1)] #Elemenys with clones added\n",
    "    size_k_subsets = subsets_with_additions + subsets_k(n-1, k) #Generate the {1,...,n} subsets and add the clones\n",
    "\n",
    "    return size_k_subsets\n",
    "\n",
    "subsets_k(4,2)"
   ]
  },
  {
   "cell_type": "markdown",
   "metadata": {},
   "source": [
    "## **(e)** Print the length of `subsets_k(n,k)` for $n = 10, 11$ and $k = 1, 2, 3$, and compare it with the value you may predict using the results of [Lecture 2](https://minerva.leeds.ac.uk/webapps/blackboard/execute/content/file?cmd=view&mode=designer&content_id=_6196137_1&course_id=_501780_1).\n",
    "\n",
    "Copy the following code to calculate the binomial.\n",
    "  ```python\n",
    "from math import factorial\n",
    "def binomial(n,k):\n",
    "    return factorial(n) // (factorial(k) * factorial(n-k))```"
   ]
  },
  {
   "cell_type": "code",
   "execution_count": 87,
   "metadata": {},
   "outputs": [],
   "source": [
    "#Import relevant modules\n",
    "from math import factorial\n",
    "\n",
    "#Given n and k, this function will return the binomial coefficient: n_choose_k.\n",
    "def binomial(n,k):\n",
    "    return factorial(n) // (factorial(k) * factorial(n-k))\n",
    "\n",
    "#From lecture 2, we expect the length of the subsets -up to and including k- to be n_choose_0 + n_choose_1 + ... +n_choose_k"
   ]
  },
  {
   "cell_type": "markdown",
   "metadata": {},
   "source": [
    "## Exercise 2"
   ]
  },
  {
   "cell_type": "markdown",
   "metadata": {},
   "source": [
    "**(a)** Define a function `binarySearch(L,b)` that implements a binary search using the divide-and-conquer strategy.\n",
    "\n",
    "The inputs are a *sorted* list `L` of natural numbers, and a natural number `b`. `binarySearch(L,b)` should return the position `i` where `b` appears in `L`, or `None` if `b` does not appear in `L`.\n",
    "\n",
    "Please use Algorithm 3 as starting point (see [Tutorial 2](https://minerva.leeds.ac.uk/webapps/blackboard/execute/content/file?cmd=view&content_id=_6212172_1&course_id=_501780_1)).\n",
    "\n",
    "Please add some (brief!) comments explaining your code."
   ]
  },
  {
   "cell_type": "code",
   "execution_count": 88,
   "metadata": {},
   "outputs": [
    {
     "name": "stdout",
     "output_type": "stream",
     "text": [
      "0\n",
      "1\n",
      "None\n"
     ]
    }
   ],
   "source": [
    "\"\"\"This function finds the index of an element in a list by splitting the list in two, checking which half the element is in,\n",
    "and then searching whichever list contains the element. It is a divide-and-conquer algorithm.\"\"\"\n",
    "#Check the English and correctness of that^\n",
    "\n",
    "def binarySearch(L, b):\n",
    "    l = 0 #l is the index of the leftmost element in the list. This is always the 0th element.\n",
    "    r = len(L)-1 #r is the index of the rightmost element, since Python begins counting at 0, this is the (len(L)-1)st element.\n",
    "    \n",
    "    while l <= r:\n",
    "        m = (l+r)//2 #m is the midpoint(/mean?) of l and r: it is the index of the midpoint of the list L.\n",
    "        \n",
    "        #If the element we are searching for, b, happens to be in the m-th position for this iteration, return m.\n",
    "        if b == L[m]:\n",
    "            return m\n",
    "        \n",
    "        #If the element we are searching for, b, happens to be to the left of the m-th position for this iteration, set the new\n",
    "        #rightmost index to be (m-1).\n",
    "        elif b < L[m]:\n",
    "            r = m - 1\n",
    "         \n",
    "        #If the element we are searching for, b, happens to be to the right of the m-th position for this iteration, set the new\n",
    "        #leftmost index to be (m+1).\n",
    "        else:\n",
    "            l = m + 1\n",
    "    \n",
    "    #If nothing has been returned in the loop above, the element is not in the list.\n",
    "    return None\n",
    "\n",
    "#Just checking the function behaves itself.\n",
    "print(binarySearch([1,2,3], 1))\n",
    "print(binarySearch([1,2,3], 2))\n",
    "print(binarySearch([1,2,3], 14))"
   ]
  },
  {
   "cell_type": "markdown",
   "metadata": {},
   "source": [
    "**(b)** Print the value of `binarySearch(L,b)` on:\n",
    "$$\n",
    "\\begin{split}\n",
    "L_1 & =  [1, 4, 17, 98, 201] &  n_1  & =  17,  \\\\\n",
    "L_2 & =  [100,101, \\ldots , 199] \\quad &  n_2 & =  150, \\\\\n",
    "L_3 & =  [100,101, \\ldots, 199] & n_3 & =  198, \\\\\n",
    "L_4 & =  [1,2, \\ldots, 100] &  n_4 & =  150.\n",
    "\\end{split}\n",
    "$$"
   ]
  },
  {
   "cell_type": "code",
   "execution_count": 89,
   "metadata": {},
   "outputs": [
    {
     "name": "stdout",
     "output_type": "stream",
     "text": [
      "n1 = 17 is in L1 with index: 2\n",
      "n2 = 150 is in L2 with index: 50\n",
      "n3 = 198 is in L3 with index: 98\n",
      "n4 = 150 is in L4 with index: None\n"
     ]
    }
   ],
   "source": [
    "print(\"n1 = 17 is in L1 with index: \" + str(binarySearch([1,4,17,98,201], 17)))\n",
    "print(\"n2 = 150 is in L2 with index: \" + str(binarySearch([x for x in range(100, 200)], 150)))\n",
    "print(\"n3 = 198 is in L3 with index: \" + str(binarySearch([x for x in range(100, 200)], 198)))\n",
    "print(\"n4 = 150 is in L4 with index: \" + str(binarySearch([x for x in range(1, 101)], 150)))"
   ]
  },
  {
   "cell_type": "markdown",
   "metadata": {},
   "source": [
    "**(c)** Define a function `binarySearch2(L,b)` by slightly tweaking `binarySearch(L,b)` so that it also returns the number of times you run the comparison `b == L[m]`.\n",
    "\n",
    "Print the number of steps of `binarySearch2(L,20)` on $L = [1,\\ldots,n]$ and compare it with value $\\lfloor\\log_2(n)\\rfloor + 1$ (see [Tutorial 2](https://minerva.leeds.ac.uk/webapps/blackboard/execute/content/file?cmd=view&content_id=_6212172_1&course_id=_501780_1)) for $n = 100, 200, \\ldots, 10,000$.\n",
    "\n",
    "(The functions `log`, `log2` and `floor` are in the module `math`.)\n",
    "\n",
    "*Optional.* Add a comment if you spot a pattern. How would you explan it?"
   ]
  },
  {
   "cell_type": "code",
   "execution_count": 90,
   "metadata": {},
   "outputs": [
    {
     "name": "stdout",
     "output_type": "stream",
     "text": [
      "n = 100, Steps taken = 7. Corresponding log_2(n) value = 7\n",
      "n = 200, Steps taken = 8. Corresponding log_2(n) value = 8\n",
      "n = 300, Steps taken = 7. Corresponding log_2(n) value = 9\n",
      "n = 400, Steps taken = 9. Corresponding log_2(n) value = 9\n",
      "n = 500, Steps taken = 9. Corresponding log_2(n) value = 9\n",
      "n = 600, Steps taken = 8. Corresponding log_2(n) value = 10\n",
      "n = 700, Steps taken = 10. Corresponding log_2(n) value = 10\n",
      "n = 800, Steps taken = 10. Corresponding log_2(n) value = 10\n",
      "n = 900, Steps taken = 10. Corresponding log_2(n) value = 10\n",
      "n = 1000, Steps taken = 10. Corresponding log_2(n) value = 10\n",
      "n = 1100, Steps taken = 10. Corresponding log_2(n) value = 11\n",
      "n = 1200, Steps taken = 9. Corresponding log_2(n) value = 11\n",
      "n = 1300, Steps taken = 6. Corresponding log_2(n) value = 11\n",
      "n = 1400, Steps taken = 11. Corresponding log_2(n) value = 11\n",
      "n = 1500, Steps taken = 9. Corresponding log_2(n) value = 11\n",
      "n = 1600, Steps taken = 11. Corresponding log_2(n) value = 11\n",
      "n = 1700, Steps taken = 10. Corresponding log_2(n) value = 11\n",
      "n = 1800, Steps taken = 11. Corresponding log_2(n) value = 11\n",
      "n = 1900, Steps taken = 11. Corresponding log_2(n) value = 11\n",
      "n = 2000, Steps taken = 11. Corresponding log_2(n) value = 11\n",
      "n = 2100, Steps taken = 9. Corresponding log_2(n) value = 12\n",
      "n = 2200, Steps taken = 11. Corresponding log_2(n) value = 12\n",
      "n = 2300, Steps taken = 11. Corresponding log_2(n) value = 12\n",
      "n = 2400, Steps taken = 10. Corresponding log_2(n) value = 12\n",
      "n = 2500, Steps taken = 11. Corresponding log_2(n) value = 12\n",
      "n = 2600, Steps taken = 7. Corresponding log_2(n) value = 12\n",
      "n = 2700, Steps taken = 12. Corresponding log_2(n) value = 12\n",
      "n = 2800, Steps taken = 12. Corresponding log_2(n) value = 12\n",
      "n = 2900, Steps taken = 11. Corresponding log_2(n) value = 12\n",
      "n = 3000, Steps taken = 10. Corresponding log_2(n) value = 12\n",
      "n = 3100, Steps taken = 12. Corresponding log_2(n) value = 12\n",
      "n = 3200, Steps taken = 12. Corresponding log_2(n) value = 12\n",
      "n = 3300, Steps taken = 12. Corresponding log_2(n) value = 12\n",
      "n = 3400, Steps taken = 11. Corresponding log_2(n) value = 12\n",
      "n = 3500, Steps taken = 9. Corresponding log_2(n) value = 12\n",
      "n = 3600, Steps taken = 12. Corresponding log_2(n) value = 12\n",
      "n = 3700, Steps taken = 12. Corresponding log_2(n) value = 12\n",
      "n = 3800, Steps taken = 12. Corresponding log_2(n) value = 12\n",
      "n = 3900, Steps taken = 11. Corresponding log_2(n) value = 12\n",
      "n = 4000, Steps taken = 12. Corresponding log_2(n) value = 12\n",
      "n = 4100, Steps taken = 10. Corresponding log_2(n) value = 13\n",
      "n = 4200, Steps taken = 10. Corresponding log_2(n) value = 13\n",
      "n = 4300, Steps taken = 10. Corresponding log_2(n) value = 13\n",
      "n = 4400, Steps taken = 12. Corresponding log_2(n) value = 13\n",
      "n = 4500, Steps taken = 12. Corresponding log_2(n) value = 13\n",
      "n = 4600, Steps taken = 12. Corresponding log_2(n) value = 13\n",
      "n = 4700, Steps taken = 11. Corresponding log_2(n) value = 13\n",
      "n = 4800, Steps taken = 11. Corresponding log_2(n) value = 13\n",
      "n = 4900, Steps taken = 12. Corresponding log_2(n) value = 13\n",
      "n = 5000, Steps taken = 12. Corresponding log_2(n) value = 13\n",
      "n = 5100, Steps taken = 12. Corresponding log_2(n) value = 13\n",
      "n = 5200, Steps taken = 8. Corresponding log_2(n) value = 13\n",
      "n = 5300, Steps taken = 8. Corresponding log_2(n) value = 13\n",
      "n = 5400, Steps taken = 13. Corresponding log_2(n) value = 13\n",
      "n = 5500, Steps taken = 13. Corresponding log_2(n) value = 13\n",
      "n = 5600, Steps taken = 13. Corresponding log_2(n) value = 13\n",
      "n = 5700, Steps taken = 12. Corresponding log_2(n) value = 13\n",
      "n = 5800, Steps taken = 12. Corresponding log_2(n) value = 13\n",
      "n = 5900, Steps taken = 11. Corresponding log_2(n) value = 13\n",
      "n = 6000, Steps taken = 11. Corresponding log_2(n) value = 13\n",
      "n = 6100, Steps taken = 11. Corresponding log_2(n) value = 13\n",
      "n = 6200, Steps taken = 13. Corresponding log_2(n) value = 13\n",
      "n = 6300, Steps taken = 13. Corresponding log_2(n) value = 13\n",
      "n = 6400, Steps taken = 13. Corresponding log_2(n) value = 13\n",
      "n = 6500, Steps taken = 13. Corresponding log_2(n) value = 13\n",
      "n = 6600, Steps taken = 13. Corresponding log_2(n) value = 13\n",
      "n = 6700, Steps taken = 12. Corresponding log_2(n) value = 13\n",
      "n = 6800, Steps taken = 12. Corresponding log_2(n) value = 13\n",
      "n = 6900, Steps taken = 12. Corresponding log_2(n) value = 13\n",
      "n = 7000, Steps taken = 10. Corresponding log_2(n) value = 13\n",
      "n = 7100, Steps taken = 10. Corresponding log_2(n) value = 13\n",
      "n = 7200, Steps taken = 13. Corresponding log_2(n) value = 13\n",
      "n = 7300, Steps taken = 13. Corresponding log_2(n) value = 13\n",
      "n = 7400, Steps taken = 13. Corresponding log_2(n) value = 13\n",
      "n = 7500, Steps taken = 13. Corresponding log_2(n) value = 13\n",
      "n = 7600, Steps taken = 13. Corresponding log_2(n) value = 13\n",
      "n = 7700, Steps taken = 12. Corresponding log_2(n) value = 13\n",
      "n = 7800, Steps taken = 12. Corresponding log_2(n) value = 13\n",
      "n = 7900, Steps taken = 12. Corresponding log_2(n) value = 13\n",
      "n = 8000, Steps taken = 13. Corresponding log_2(n) value = 13\n",
      "n = 8100, Steps taken = 13. Corresponding log_2(n) value = 13\n",
      "n = 8200, Steps taken = 11. Corresponding log_2(n) value = 14\n",
      "n = 8300, Steps taken = 11. Corresponding log_2(n) value = 14\n",
      "n = 8400, Steps taken = 11. Corresponding log_2(n) value = 14\n",
      "n = 8500, Steps taken = 11. Corresponding log_2(n) value = 14\n",
      "n = 8600, Steps taken = 11. Corresponding log_2(n) value = 14\n",
      "n = 8700, Steps taken = 11. Corresponding log_2(n) value = 14\n",
      "n = 8800, Steps taken = 13. Corresponding log_2(n) value = 14\n",
      "n = 8900, Steps taken = 13. Corresponding log_2(n) value = 14\n",
      "n = 9000, Steps taken = 13. Corresponding log_2(n) value = 14\n",
      "n = 9100, Steps taken = 13. Corresponding log_2(n) value = 14\n",
      "n = 9200, Steps taken = 13. Corresponding log_2(n) value = 14\n",
      "n = 9300, Steps taken = 12. Corresponding log_2(n) value = 14\n",
      "n = 9400, Steps taken = 12. Corresponding log_2(n) value = 14\n",
      "n = 9500, Steps taken = 12. Corresponding log_2(n) value = 14\n",
      "n = 9600, Steps taken = 12. Corresponding log_2(n) value = 14\n",
      "n = 9700, Steps taken = 12. Corresponding log_2(n) value = 14\n",
      "n = 9800, Steps taken = 13. Corresponding log_2(n) value = 14\n",
      "n = 9900, Steps taken = 13. Corresponding log_2(n) value = 14\n",
      "n = 10000, Steps taken = 13. Corresponding log_2(n) value = 14\n",
      "n = 10100, Steps taken = 13. Corresponding log_2(n) value = 14\n",
      "n = 10200, Steps taken = 13. Corresponding log_2(n) value = 14\n",
      "n = 10300, Steps taken = 9. Corresponding log_2(n) value = 14\n",
      "n = 10400, Steps taken = 9. Corresponding log_2(n) value = 14\n",
      "n = 10500, Steps taken = 9. Corresponding log_2(n) value = 14\n",
      "n = 10600, Steps taken = 9. Corresponding log_2(n) value = 14\n",
      "n = 10700, Steps taken = 9. Corresponding log_2(n) value = 14\n",
      "n = 10800, Steps taken = 14. Corresponding log_2(n) value = 14\n",
      "n = 10900, Steps taken = 14. Corresponding log_2(n) value = 14\n",
      "n = 11000, Steps taken = 14. Corresponding log_2(n) value = 14\n",
      "n = 11100, Steps taken = 14. Corresponding log_2(n) value = 14\n",
      "n = 11200, Steps taken = 14. Corresponding log_2(n) value = 14\n",
      "n = 11300, Steps taken = 13. Corresponding log_2(n) value = 14\n",
      "n = 11400, Steps taken = 13. Corresponding log_2(n) value = 14\n",
      "n = 11500, Steps taken = 13. Corresponding log_2(n) value = 14\n",
      "n = 11600, Steps taken = 13. Corresponding log_2(n) value = 14\n",
      "n = 11700, Steps taken = 13. Corresponding log_2(n) value = 14\n",
      "n = 11800, Steps taken = 12. Corresponding log_2(n) value = 14\n",
      "n = 11900, Steps taken = 12. Corresponding log_2(n) value = 14\n",
      "n = 12000, Steps taken = 12. Corresponding log_2(n) value = 14\n",
      "n = 12100, Steps taken = 12. Corresponding log_2(n) value = 14\n",
      "n = 12200, Steps taken = 12. Corresponding log_2(n) value = 14\n",
      "n = 12300, Steps taken = 14. Corresponding log_2(n) value = 14\n",
      "n = 12400, Steps taken = 14. Corresponding log_2(n) value = 14\n",
      "n = 12500, Steps taken = 14. Corresponding log_2(n) value = 14\n",
      "n = 12600, Steps taken = 14. Corresponding log_2(n) value = 14\n",
      "n = 12700, Steps taken = 14. Corresponding log_2(n) value = 14\n",
      "n = 12800, Steps taken = 14. Corresponding log_2(n) value = 14\n",
      "n = 12900, Steps taken = 14. Corresponding log_2(n) value = 14\n",
      "n = 13000, Steps taken = 14. Corresponding log_2(n) value = 14\n",
      "n = 13100, Steps taken = 14. Corresponding log_2(n) value = 14\n",
      "n = 13200, Steps taken = 14. Corresponding log_2(n) value = 14\n",
      "n = 13300, Steps taken = 14. Corresponding log_2(n) value = 14\n",
      "n = 13400, Steps taken = 13. Corresponding log_2(n) value = 14\n",
      "n = 13500, Steps taken = 13. Corresponding log_2(n) value = 14\n",
      "n = 13600, Steps taken = 13. Corresponding log_2(n) value = 14\n",
      "n = 13700, Steps taken = 13. Corresponding log_2(n) value = 14\n",
      "n = 13800, Steps taken = 13. Corresponding log_2(n) value = 14\n",
      "n = 13900, Steps taken = 11. Corresponding log_2(n) value = 14\n",
      "n = 14000, Steps taken = 11. Corresponding log_2(n) value = 14\n",
      "n = 14100, Steps taken = 11. Corresponding log_2(n) value = 14\n",
      "n = 14200, Steps taken = 11. Corresponding log_2(n) value = 14\n",
      "n = 14300, Steps taken = 11. Corresponding log_2(n) value = 14\n",
      "n = 14400, Steps taken = 14. Corresponding log_2(n) value = 14\n",
      "n = 14500, Steps taken = 14. Corresponding log_2(n) value = 14\n",
      "n = 14600, Steps taken = 14. Corresponding log_2(n) value = 14\n",
      "n = 14700, Steps taken = 14. Corresponding log_2(n) value = 14\n",
      "n = 14800, Steps taken = 14. Corresponding log_2(n) value = 14\n",
      "n = 14900, Steps taken = 14. Corresponding log_2(n) value = 14\n",
      "n = 15000, Steps taken = 14. Corresponding log_2(n) value = 14\n"
     ]
    }
   ],
   "source": [
    "#Import relevant modules\n",
    "from math import floor, log\n",
    "\n",
    "\"\"\"This is an exact replica of 'binarySearch' defined in the first part of the question except this function keeps track of\n",
    "the number of times the comparison b == L[m] is made and it also returns this value. If the element is not in the list, the\n",
    "number of comparisons made is irrelevant.\"\"\"\n",
    "\n",
    "def binarySearch2(L, b):\n",
    "    l = 0 #l is the index of the leftmost element in the list. This is always the 0th element.\n",
    "    r = len(L)-1 #r is the index of the rightmost element, since Python begins counting at 0, this is the (len(L)-1)st element.\n",
    "    count = 0 #count is the variable which will keep track of the number of times the comparison b == L[m]\n",
    "    \n",
    "    while l <= r:\n",
    "        m = (l+r)//2 #m is the midpoint(/mean?) of l and r: it is the index of the midpoint of the list L.\n",
    "        \n",
    "        #Increment the counter every time a comparison is made\n",
    "        count = count + 1\n",
    "        \n",
    "        #If the element we are searching for, b, happens to be in the m-th position for this iteration, return m. Also return count.\n",
    "        if b == L[m]:\n",
    "            return (m, count)\n",
    "        \n",
    "        #If the element we are searching for, b, happens to be to the left of the m-th position for this iteration, set the new\n",
    "        #rightmost index to be (m-1).\n",
    "        elif b < L[m]:\n",
    "            r = m - 1\n",
    "         \n",
    "        #If the element we are searching for, b, happens to be to the right of the m-th position for this iteration, set the new\n",
    "        #leftmost index to be (m+1).\n",
    "        else:\n",
    "            l = m + 1\n",
    "    \n",
    "    #If nothing has been returned in the loop above, the element is not in the list.\n",
    "    return None\n",
    "\n",
    "#Loop through the required lists and find the element b = 20 in the list. Print the number of steps required to find b.\n",
    "for n in [100*i for i in range(1, 151)]:\n",
    "    no_of_steps = binarySearch2([x for x in range(1, n+1)], 20)[1] #Number of steps required to find b\n",
    "    log_value = floor(log(n, 2)) + 1 #Value asked to compute in main body of question\n",
    "    \n",
    "    print(\"n = \" + str(n) + \", Steps taken = \" + str(no_of_steps) + \". Corresponding log_2(n) value = \" + str(log_value))\n",
    "    #The data appears to suggest log_2(n) gives an upper bound on the number of steps required to find the element."
   ]
  },
  {
   "cell_type": "markdown",
   "metadata": {},
   "source": [
    "## Exercise 3"
   ]
  },
  {
   "cell_type": "markdown",
   "metadata": {},
   "source": [
    "**(b)** Define a function `playHanoi(p1, p2, p3, n)` that calculates how to move `n` disks from peg `p1` to peg `p3` using `p2` as auxiliary peg according to the Towers of Hanoi rules, as discussed in [Tutorial 2](https://minerva.leeds.ac.uk/webapps/blackboard/execute/content/file?cmd=view&content_id=_6212172_1&course_id=_501780_1).\n",
    "\n",
    "The function `playHanoi(p1, p2, p3, n)` should return a list `[(p,q), ...]`, where each element `(p,q)` means \"Move the top disk on peg `p` to peg `q`\".\n",
    "\n",
    "Please use Algorithm 2 as starting point.\n",
    "\n",
    "Please add some (brief!) comments explaining your code."
   ]
  },
  {
   "cell_type": "code",
   "execution_count": 7,
   "metadata": {},
   "outputs": [
    {
     "data": {
      "text/plain": [
       "[[[('p1', 'p2'), ('p1', 'p3'), ('p2', 'p3')],\n",
       "  ('p1', 'p2'),\n",
       "  [('p3', 'p1'), ('p3', 'p2'), ('p1', 'p2')]],\n",
       " ('p1', 'p3'),\n",
       " [[('p2', 'p3'), ('p2', 'p1'), ('p3', 'p1')],\n",
       "  ('p2', 'p3'),\n",
       "  [('p1', 'p2'), ('p1', 'p3'), ('p2', 'p3')]]]"
      ]
     },
     "execution_count": 7,
     "metadata": {},
     "output_type": "execute_result"
    }
   ],
   "source": [
    "\"\"\"Given three pegs and a number of disks n, this function returns a list \"\"\"\n",
    "def playHanoi(p1, p2, p3, n):\n",
    "    list_of_moves = [] #List to store the moves to solve the game.\n",
    "    \n",
    "    #If we only have the one disk, move it from peg 1 to peg 3 to solve the game.\n",
    "    if n == 1:\n",
    "        return (p1, p3)\n",
    "    \n",
    "    #If we have more than one disk, implement the recursive solution documented in algorith 2:\n",
    "    else:\n",
    "        list_of_moves.append(playHanoi(p1, p3, p2, n-1))\n",
    "        list_of_moves.append((p1, p3))\n",
    "        list_of_moves.append(playHanoi(p2, p1, p3, n-1))\n",
    "        \n",
    "    return list_of_moves #return the list of moves\n",
    "\n",
    "#Just checking this function behaves itself too.\n",
    "playHanoi(\"p1\", \"p2\", \"p3\", 4)"
   ]
  },
  {
   "cell_type": "markdown",
   "metadata": {},
   "source": [
    "**(b)** Run `playHanoi(1,2,3,n)` for $n=1,2,3$, and write in a comment if the result is what you expect."
   ]
  },
  {
   "cell_type": "code",
   "execution_count": 92,
   "metadata": {},
   "outputs": [
    {
     "name": "stdout",
     "output_type": "stream",
     "text": [
      "The solution for 1 disk is: ('p1', 'p3')\n",
      "The solution for 2 disks is: [('p1', 'p2'), ('p1', 'p3'), ('p2', 'p3')]\n",
      "The solution for 3 disks is: [[('p1', 'p3'), ('p1', 'p2'), ('p3', 'p2')], ('p1', 'p3'), [('p2', 'p1'), ('p2', 'p3'), ('p1', 'p3')]]\n"
     ]
    }
   ],
   "source": [
    "#Let's work them out beforehand:\n",
    "    #Solution for one disk is one move: [(p1, p3)]\n",
    "    #Solution for two disks is three moves: [(p1, p2), (p1, p3), (p2, p3)]\n",
    "    #Solution for three disks is seven moves: [(p1, p3), (p1, p2), (p3, p2), (p1, p3), (p2, p1), (p2, p3), (p1, p3)]\n",
    "\n",
    "print(\"The solution for 1 disk is: \" + str(playHanoi('p1', 'p2', 'p3', 1)))\n",
    "print(\"The solution for 2 disks is: \" + str(playHanoi('p1', 'p2', 'p3', 2)))\n",
    "print(\"The solution for 3 disks is: \" + str(playHanoi('p1', 'p2', 'p3', 3)))"
   ]
  },
  {
   "cell_type": "markdown",
   "metadata": {},
   "source": [
    "**(c)** Test if the number of moves for $n = 1,2,\\ldots,23$ matches the expected number of moves given after Algorithm 2.\n",
    "\n",
    "**Note.** $n = 23$ will take a few seconds, depending on how powerful your computer is! Do your tests with $n \\leq 10$ before running the code up to $n = 23$."
   ]
  },
  {
   "cell_type": "code",
   "execution_count": 93,
   "metadata": {},
   "outputs": [
    {
     "name": "stdout",
     "output_type": "stream",
     "text": [
      "2\n",
      "3\n",
      "3\n",
      "3\n",
      "3\n",
      "3\n",
      "3\n",
      "3\n",
      "3\n",
      "3\n",
      "3\n",
      "3\n",
      "3\n",
      "3\n",
      "3\n",
      "3\n",
      "3\n",
      "3\n",
      "3\n",
      "3\n",
      "3\n",
      "3\n",
      "3\n"
     ]
    }
   ],
   "source": [
    "#I'll have to fix the above function before I start messing around with this.\n",
    "for n in range(1, 24):\n",
    "    print(len(playHanoi('p1', 'p2', 'p3', n)))\n",
    "\n",
    "#This is not what I expected because Python is counting the number of lists within the list. I cannot figure out how to flatten\n",
    "#them into one list. Please advise."
   ]
  },
  {
   "cell_type": "code",
   "execution_count": null,
   "metadata": {},
   "outputs": [],
   "source": []
  }
 ],
 "metadata": {
  "kernelspec": {
   "display_name": "Python 3",
   "language": "python",
   "name": "python3"
  },
  "language_info": {
   "codemirror_mode": {
    "name": "ipython",
    "version": 3
   },
   "file_extension": ".py",
   "mimetype": "text/x-python",
   "name": "python",
   "nbconvert_exporter": "python",
   "pygments_lexer": "ipython3",
   "version": "3.6.5"
  }
 },
 "nbformat": 4,
 "nbformat_minor": 2
}
