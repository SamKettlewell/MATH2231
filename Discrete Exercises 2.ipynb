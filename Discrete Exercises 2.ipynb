{
 "cells": [
  {
   "cell_type": "markdown",
   "metadata": {},
   "source": [
    "## MATH2231 Discrete Mathematics with Computation\n",
    "## Computer exercise 2\n",
    "**Date:** 8 March 2019\n",
    "\n",
    "**Submit by:** 15 March 2019 at 1:00pm on [Upload assignment](https://minerva.leeds.ac.uk/webapps/assignment/uploadAssignment?content_id=_6227646_1&course_id=_478400_1&group_id=&mode=view)"
   ]
  },
  {
   "cell_type": "markdown",
   "metadata": {},
   "source": [
    "**Name:** Samuel Kettlewell\n",
    "\n",
    "**Username:** ll16sjk"
   ]
  },
  {
   "cell_type": "markdown",
   "metadata": {},
   "source": [
    "### Instructions\n",
    "1. Write your answers in the empty cells after each question.\n",
    "1. Please **add comments** when requested. You will not get a full mark if comments are missing.\n",
    "1. Click `Run` in the Toolbar to run the code in the cell you are currently working on.\n",
    "1. Before submitting, please: (a) check that you have run the code in each cell, and (b) click on the save icon.\n",
    "1. Upload this notebook on Minerva by the deadline.\n",
    "1. Please note that **only code saved in this notebook is accepted as submission**. Any other type of file will be discarded.\n",
    "1. You **may not import any module** unless explicitly instructed to do so."
   ]
  },
  {
   "cell_type": "markdown",
   "metadata": {},
   "source": [
    "We are going to represent graphs as adjacency matrices and as adjacency lists.\n",
    "\n",
    "#### Adjacency matrix\n",
    "In Python, we shall represent the adjacency matrix as a **list of rows**, where each row is a **list of 0 and 1's**. For instance,\n",
    "```python\n",
    "K4M = [[0, 1, 1, 1],\n",
    "       [1, 0, 1, 1],\n",
    "       [1, 1, 0, 1],\n",
    "       [1, 1, 1, 0]]\n",
    "```\n",
    "is the representation of the complete graph $K_4$ on four vertices, whose adjacency matrix is\n",
    "$$ \\begin{pmatrix} 0 & 1 & 1 & 1 \\\\ 1 & 0 & 1 & 1 \\\\ 1 & 1 & 0 & 1 \\\\ 1 & 1 & 1 & 0 \\end{pmatrix}. $$\n",
    "\n",
    "#### Adjacency list\n",
    "In Python, we shall represent the adjacency list as a **dictionary** `{a : La, b : Lb, ...}`, where `La` is the list of the vertices adjacent to `a`. For instance, \n",
    "```python\n",
    "K4A = {'a': ['b', 'c', 'd'],\n",
    "       'b': ['a', 'c', 'd'],\n",
    "       'c': ['a', 'b', 'd'],\n",
    "       'd': ['a', 'b', 'c']}\n",
    "```\n",
    "is the representation of the complete graph on four vertices labeled with the strings `'a', 'b', 'c', 'd'`. Note that the labels can be almost any Python value (numbers, letters, strings...). Also recall that a dictionary is very similar to a list: for instance, `K4A['a']` is equal to `['b', 'c', 'd']`."
   ]
  },
  {
   "cell_type": "markdown",
   "metadata": {},
   "source": [
    "## Exercise 1"
   ]
  },
  {
   "cell_type": "markdown",
   "metadata": {},
   "source": [
    "**(a)** Define a function `isEdgeM(GM, i, j)` that takes the adjacency matrix `GM` of a graph $G$ and vertices `i`, `j`, and returns `True` if there is an edge between `i` a `j` and `False` otherwise.\n",
    "\n",
    "Print the output of the function on `G=K4M` with `i=0,1` and `j=0,1`."
   ]
  },
  {
   "cell_type": "code",
   "execution_count": 34,
   "metadata": {},
   "outputs": [
    {
     "name": "stdout",
     "output_type": "stream",
     "text": [
      "There is an edge between 0 and 0: False\n",
      "There is an edge between 0 and 1: True\n",
      "There is an edge between 1 and 0: True\n",
      "There is an edge between 1 and 1: False\n"
     ]
    }
   ],
   "source": [
    "\"\"\"Given a graph G, its adjacency matrix GM and two vertices of G: i & j, this function checks to see whether there is an edge\n",
    "between i and j (if i and j are connected) and returns True if they are and returns False if not.\"\"\"\n",
    "\n",
    "def isEdge(GM, i, j):\n",
    "    \n",
    "    #If the (i, j)th entry is 1 then vertices i & j are connected (assume simple graph)\n",
    "    if GM[i][j] == 1: \n",
    "        return True\n",
    "    \n",
    "    #Otherwise, they are not connected, so return false.\n",
    "    return False\n",
    "\n",
    "#Define the adjacency matrix of the graph K4M for use in this cell and later cells. \n",
    "#The graph K4M looks like a square with a cross in the middle\n",
    "K4M = [[0, 1, 1, 1],\n",
    "       [1, 0, 1, 1],\n",
    "       [1, 1, 0, 1],\n",
    "       [1, 1, 1, 0]]\n",
    "\n",
    "\n",
    "#For a graph with two vertices 0 and 1, check whether all combinations of these are connected.\n",
    "print(\"There is an edge between 0 and 0: \" + str(isEdge(K4M, 0, 0)))\n",
    "print(\"There is an edge between 0 and 1: \" + str(isEdge(K4M, 0, 1)))\n",
    "print(\"There is an edge between 1 and 0: \" + str(isEdge(K4M, 1, 0)))\n",
    "print(\"There is an edge between 1 and 1: \" + str(isEdge(K4M, 1, 1)))"
   ]
  },
  {
   "cell_type": "markdown",
   "metadata": {},
   "source": [
    "**(b)** Define a function `degreeM(GM, i)` that takes the adjacency matrix `GM` of a graph $H$ and a vertex `i`, and returns the degree of `i`.\n",
    "\n",
    "Print the output of the function on `GM=K4M` with `i=0,1,2`."
   ]
  },
  {
   "cell_type": "code",
   "execution_count": 35,
   "metadata": {},
   "outputs": [
    {
     "name": "stdout",
     "output_type": "stream",
     "text": [
      "The degree of vertex 0 is: 3\n",
      "The degree of vertex 1 is: 3\n",
      "The degree of vertex 2 is: 3\n"
     ]
    }
   ],
   "source": [
    "\"\"\"Given a graph G, its adjacency matrix GM and a vertex i, this function returns the degree of the vertex i, that is, the\n",
    "number of edges incident to i. We do this by recognising that each row (since the matrix is symmetric) corresponds to one\n",
    "particular vertex and so by summing all the elements in the row, we find the number of vertices connected to our particular \n",
    "vertex i.\"\"\"\n",
    "\n",
    "def degreeM(GM, i):\n",
    "    #Access and sum the elements of the ith row of the adjacency matrix\n",
    "    return sum(GM[i])\n",
    "\n",
    "#Find the degree of each vertex for vertices 0, 1, 2.\n",
    "print(\"The degree of vertex 0 is: \" + str(degreeM(K4M, 0))) #Access K4M defined in previous cell.\n",
    "print(\"The degree of vertex 1 is: \" + str(degreeM(K4M, 1)))\n",
    "print(\"The degree of vertex 2 is: \" + str(degreeM(K4M, 2)))"
   ]
  },
  {
   "cell_type": "markdown",
   "metadata": {},
   "source": [
    "**(c)** Define a function `adjListM(GM)` that takes the adjacency matrix `GM` of a graph $G$, and returns the adjacency list of the graph (with labels 0, 1, 2 ...).\n",
    "\n",
    "Add brief comments explaining your code.\n",
    "\n",
    "Define `K4A = adjListM(K4M)` and print out the result."
   ]
  },
  {
   "cell_type": "code",
   "execution_count": 36,
   "metadata": {},
   "outputs": [
    {
     "name": "stdout",
     "output_type": "stream",
     "text": [
      "{0: [1, 2, 3], 1: [0, 2, 3], 2: [0, 1, 3], 3: [0, 1, 2]}\n"
     ]
    }
   ],
   "source": [
    "\"\"\"Given a graph G and its adjacency matrix GM, this function returns its adjacency list as a dictionary. It does this by\n",
    "iterating through each element of each row of GM and adding the vertices connected to it to a list (by their number).\n",
    "It finally appends these lists into a dictionary assigning each list to its respective vertex number as the dictionary key.\n",
    "Note we use while loops for questions of this sort as it is incredibly useful to be able to access the indices of the lists.\"\"\"\n",
    "\n",
    "def adjListM(GM):\n",
    "    #Define an empty dictionary to store the elements of the adjacency list\n",
    "    adjacency_list = {}\n",
    "    \n",
    "    #Define a variable with which to iterate through the rows of the adjacency matrix\n",
    "    row_index = 0\n",
    "    \n",
    "    #Iterate through the rows of the adjacency matrix\n",
    "    while row_index < len(GM):\n",
    "        \n",
    "        #Define this for easy reference to the current 'working' row\n",
    "        current_row = GM[row_index]\n",
    "        \n",
    "        #Define a variable with which to iterate through the elements of the current working row\n",
    "        element_index = 0\n",
    "        \n",
    "        #Define an empty list to store the vertices which are connected to the vertex numbered 'row index'\n",
    "        connected_vertices = []\n",
    "        \n",
    "        #Iterate through each element in the current working row\n",
    "        while element_index < len(current_row):\n",
    "            \n",
    "            #If the (i, j)th entry of the adjacency matrix is 1, then the \n",
    "            #vertices numbered 'element index' & 'row index' are connected\n",
    "            if current_row[element_index] == 1:\n",
    "                \n",
    "                #Append the vertex numbered 'element_index' to the list of connected vertices to row_index.\n",
    "                connected_vertices.append(element_index)\n",
    "            \n",
    "            #Proceed to the next element in the working row of the adjacency matrix\n",
    "            element_index = element_index + 1\n",
    "        \n",
    "        #Add the vertex number and the list of connected indices to the 'adjacency_list' dictionary\n",
    "        adjacency_list[row_index] = connected_vertices\n",
    "        \n",
    "        #Move on to the next row of the adjacency matrix\n",
    "        row_index = row_index + 1\n",
    "            \n",
    "    #Return (the) adjacency_list\n",
    "    return adjacency_list\n",
    "\n",
    "#Test the function on G. Note that we expect the result {0: [1,2,3], 1: [0, 2, 3], 2: [0, 1, 3], 3: [0, 1, 2]}\n",
    "K4A = adjListM(K4M)\n",
    "print(K4A)\n",
    "\n",
    "#The desired result is found by this function."
   ]
  },
  {
   "cell_type": "markdown",
   "metadata": {},
   "source": [
    "**(d)** Define a function `adjMatrixA(GA)` that takes the adjacency list `GA` of a graph $G$, and returns the adjacency matrix of the graph.\n",
    "\n",
    "Add brief comments explaining your code.\n",
    "\n",
    "Print out `adjMatrixA(K4A)`. Write in a comment if it coincides with `K4M`."
   ]
  },
  {
   "cell_type": "code",
   "execution_count": 37,
   "metadata": {},
   "outputs": [
    {
     "name": "stdout",
     "output_type": "stream",
     "text": [
      "[[0, 1, 1, 1], [1, 0, 1, 1], [1, 1, 0, 1], [1, 1, 1, 0]]\n"
     ]
    }
   ],
   "source": [
    "\"\"\"Given an adjacency list GA of a graph G, this function finds the corresponding adjacency matrix for G. It does this by\n",
    "inserting 1s into a len(GA)xlen(GA) matrix at the positions specified by the adjacency list: for the dictionary {a: [b,c,d]} \n",
    "we insert 1s at positions b,c,d on row a. This code uses an identical structure to part c above.\"\"\"\n",
    "\n",
    "def adjMatrixA(GA):\n",
    "    #Define an empty list to store the lists corresponding to rows of the adjacency matrix\n",
    "    adjacency_matrix = []\n",
    "    \n",
    "    #Define a variable with which to iterate through the rows (to be constructed) of the adjacency matrix\n",
    "    row_index = 0\n",
    "    \n",
    "    #Iterate through the rows to be constructed of the adjacency matrix\n",
    "    while row_index < len(GA):\n",
    "        \n",
    "        #Define a variable with which to iterate through the elements of the current working row to be constructed\n",
    "        element_index = 0\n",
    "        \n",
    "        #Define a new list to store the rows of the elements of the adjacency matrix to be constructed\n",
    "        row_to_construct = []\n",
    "        \n",
    "        #Iterate through each element connected to a particular vertex from GA\n",
    "        while element_index < len(GA): \n",
    "            \n",
    "            #If the vertex 'row_index' is connected to the vertex 'element_index' then append 1 to the current row, otherwise 0\n",
    "            if element_index in GA[row_index]:\n",
    "                row_to_construct.append(1)\n",
    "            else:\n",
    "                row_to_construct.append(0)\n",
    "            \n",
    "            #Increment the element-index counter, i.e. move on to the next vertex\n",
    "            element_index = element_index + 1\n",
    "        \n",
    "        #Add the -now constructed- row to the adjacency matrix\n",
    "        adjacency_matrix.append(row_to_construct)\n",
    "        \n",
    "        #Increment the row counter, that is, move on to the next row\n",
    "        row_index = row_index + 1\n",
    "    \n",
    "    #Return the -now completed- adjacency matrix\n",
    "    return adjacency_matrix\n",
    "\n",
    "#Test the function returns the correct adjacency matrix. We expect [[0, 1, 1, 1], [1, 0, 1, 1], [1, 1, 0, 1], [1, 1, 1, 0]]\n",
    "print(adjMatrixA(K4A))\n",
    "\n",
    "#Clearly, this coincides with K4M as expected."
   ]
  },
  {
   "cell_type": "markdown",
   "metadata": {},
   "source": [
    "## Exercise 2"
   ]
  },
  {
   "cell_type": "markdown",
   "metadata": {},
   "source": [
    "**(a)** Define a function `removeEdgeA(GA, a, b)` that takes the adjacency list `GA` of a graph $G$ and two vertices `a`, `b`, and modifies `GA` by removing the edge between `a` and `b`, so that `GA` becomes the adjacency list of $G - ab$.\n",
    "\n",
    "Then define\n",
    "```python\n",
    "G = {0: [1, 2, 3], 1: [0, 2], 2: [0, 1, 3], 3: [0, 2]}\n",
    "```\n",
    "remove the edge 0-1 from `G`, and print `G`."
   ]
  },
  {
   "cell_type": "code",
   "execution_count": 38,
   "metadata": {},
   "outputs": [
    {
     "name": "stdout",
     "output_type": "stream",
     "text": [
      "{0: [2, 3], 1: [2], 2: [0, 1, 3], 3: [0, 2]}\n"
     ]
    }
   ],
   "source": [
    "#Define the new graph G using adjacency list notation. This one is exactly identical to K4M but with edge 1-3 removed.\n",
    "G = {0: [1, 2, 3], 1: [0, 2], 2: [0, 1, 3], 3: [0, 2]}\n",
    "\n",
    "\"\"\"Given the adjacency list of a graph G and two connected vertices of the graph a & b, this function removes the edge between\n",
    "a and b. This function does not work for the case when a & b are not connected but could be easily modified with a try/catch\n",
    "clause to do so. It works by removing the connection to a from b's list and also removing the connection to b from a's list.\"\"\"\n",
    "\n",
    "def removeEdgeA(GA, a, b):\n",
    "    #Remove the relevant elements from GA and return it.\n",
    "    GA[a].remove(b)\n",
    "    GA[b].remove(a)\n",
    "    \n",
    "    return GA\n",
    "\n",
    "#Test the function works, we expect the result {0: [2, 3], 1: [2], 2: [0, 1, 3], 3: [0, 2]}\n",
    "print(removeEdgeA(G, 0, 1))"
   ]
  },
  {
   "cell_type": "markdown",
   "metadata": {},
   "source": [
    "**(b)** Define a function `removeVertexA(GA, a)` that takes the adjacency list `GA` of a graph $G$ and a vertex `a`, and modifies `GA` by removing the vertex `a`, so that `GA` becomes the adjacency list of $G - a$.\n",
    "\n",
    "Then define\n",
    "```python\n",
    "H = {0: [2, 3], 1: [2], 2: [0, 1, 3], 3: [0, 2]}\n",
    "```\n",
    "remove the vertex 3 from `H`, and print `H`."
   ]
  },
  {
   "cell_type": "code",
   "execution_count": 39,
   "metadata": {},
   "outputs": [
    {
     "name": "stdout",
     "output_type": "stream",
     "text": [
      "{0: [2], 1: [2], 2: [0, 1]}\n"
     ]
    }
   ],
   "source": [
    "#Define the graph H by its adjacency list.\n",
    "H = {0: [2, 3], 1: [2], 2: [0, 1, 3], 3: [0, 2]}\n",
    "\n",
    "\"\"\"Given an adjacency list GA of a graph G, this function removes the vertex a from the graph and returns the corresponding\n",
    "adjacency list. We achieve this by first removing all edges connected to vertex a using the previously defined function, then\n",
    "delete the vertex a from the adjacency list entirely.\n",
    "\n",
    "An important point to notice about this function is that the while loop runs while the list is non-empty and deletes the element\n",
    "at the 0th index, this means the length of the list decreases by 1 and the entire list 'shifts down' a position. We therefore\n",
    "don't need a counter variable to terminate the loop/reference the list index.\"\"\"\n",
    "\n",
    "def removeVertexA(GA, a):\n",
    "    #List of edges to remove, defined for code readability\n",
    "    edges_to_remove = GA[a]\n",
    "    \n",
    "    #While the list is non-empty,\n",
    "    while len(edges_to_remove) > 0:\n",
    "        \n",
    "        #Remove the element at the 0th index\n",
    "        removeEdgeA(GA, a, edges_to_remove[0]) \n",
    "    \n",
    "    #Remove the key corresponding to the vertex from the dictionary\n",
    "    del GA[a]\n",
    "    \n",
    "    #Return the updated adjacency list\n",
    "    return GA\n",
    "\n",
    "#Test the function works, we expect the result {0: [2], 1: [2], 2: [0, 1]}\n",
    "print(removeVertexA(H, 3))"
   ]
  },
  {
   "cell_type": "markdown",
   "metadata": {},
   "source": [
    "**(c)** Define a function `isSubgraphA(GA, HA)` that takes the adjacency lists `GA`, `HA` of two graphs $G$, $H$, and returns `True` if $G$ is a subgraph of $H$, and `False` otherwise.\n",
    "\n",
    "Define\n",
    "```python\n",
    "G = {'G': {0: [2, 3], 1: [2, 3], 2: [0, 1, 3], 3: [0, 1, 2]},\n",
    "     'H': {0: [3], 1: [], 3: [0]},\n",
    "     'I': {0: [3], 1: [3], 3: [0, 1]}}\n",
    "```\n",
    "\n",
    "Print the output of `isSubgraphA` on all nine combinations of `G['G'], G['H'], G['I']`."
   ]
  },
  {
   "cell_type": "code",
   "execution_count": 44,
   "metadata": {},
   "outputs": [
    {
     "name": "stdout",
     "output_type": "stream",
     "text": [
      "G is a subgraph of G: True\n",
      "G is a subgraph of H: False\n",
      "G is a subgraph of I: False\n",
      "H is a subgraph of G: True\n",
      "H is a subgraph of H: True\n",
      "H is a subgraph of I: True\n",
      "I is a subgraph of G: True\n",
      "I is a subgraph of H: False\n",
      "I is a subgraph of I: True\n"
     ]
    }
   ],
   "source": [
    "#NB: Typo in definition of G['G'] corrected.\n",
    "\n",
    "#Define the dictionary of adjacency lists as above.\n",
    "G = {'G': {0: [2, 3], 1: [2, 3], 2: [0, 1, 3], 3: [0, 1, 2]},\n",
    "     'H': {0: [3], 1: [], 3: [0]},\n",
    "     'I': {0: [3], 1: [3], 3: [0, 1]}}\n",
    "\n",
    "\"\"\"Given the adjacency lists of two graphs G & H, this function checks whether or not G is a subgraph of H. It does so by\n",
    "checking -firstly- if the vertex set of G is not a subset of the vertex set of H. Secondly, it checks whether the edge set of G\n",
    "is not a subset of the edge set of H. If either of these are true, the function 'breaks' and returns False immediately. If\n",
    "neither of these are true, then we conclude that G is a subgraph of H.\"\"\"\n",
    "\n",
    "def isSubgraph(GA, HA):\n",
    "    #Generate a list of vertices (numbered 0, 1, 2 ...) for each graph G & H\n",
    "    GA_vertices = [vertex for vertex in GA.keys()]\n",
    "    HA_vertices = [vertex for vertex in HA.keys()]\n",
    "    \n",
    "    #If there is some vertex in G which is not in H, then G is not a subset of H.\n",
    "    for each_G_vertex in GA_vertices:\n",
    "        if each_G_vertex not in HA_vertices:\n",
    "            return False\n",
    "    \n",
    "    #Now it remains to check the edge set of GA is NOT a subset of the HA edge set.\n",
    "    \n",
    "    #Define lists containing the lists corresponding to the edges between vertices.\n",
    "    GA_edgesets = [GA[edgesets] for edgesets in GA]\n",
    "    HA_edgesets = [HA[edgesets] for edgesets in HA]\n",
    "    \n",
    "    #Define a variable with which to iterate over all the vertices to check their edges.\n",
    "    edgeset_to_check = 0\n",
    "\n",
    "    #Iterate over all the vertices.\n",
    "    while edgeset_to_check < len(GA_edgesets): \n",
    "        \n",
    "        #If there is an edge in G which is not in H, edge set of G is not a subset of that of H.\n",
    "        for each_edge in GA_edgesets[edgeset_to_check]:\n",
    "            if each_edge not in HA_edgesets[edgeset_to_check]:\n",
    "                return False\n",
    "            \n",
    "        #Increment the counter: move on to the next vertex\n",
    "        edgeset_to_check = edgeset_to_check + 1\n",
    "    \n",
    "    #Otherwise, G is subgraph of H so return True.\n",
    "    return True\n",
    "\n",
    "#Test the function returns what we expect it to.\n",
    "for each_graph in ['G', 'H', 'I']:\n",
    "    for each_graph_2 in ['G', 'H', 'I']:\n",
    "        print(each_graph + \" is a subgraph of \" + each_graph_2 + \": \" + str(isSubgraph(G[each_graph], G[each_graph_2])))"
   ]
  },
  {
   "cell_type": "markdown",
   "metadata": {},
   "source": [
    "## Exercise 3"
   ]
  },
  {
   "cell_type": "markdown",
   "metadata": {},
   "source": [
    "**(a)** Define a funtion `canReachA(GA, i, j)` that takes the adjacency graph `GA` of a graph $G$ and two vertices `i`, `j`, and returns `True` if there is a path from `i` to `j`.\n",
    "\n",
    "Please use Algorithm 1 of [Tutorial 3](https://minerva.leeds.ac.uk/webapps/blackboard/execute/content/file?cmd=view&mode=designer&content_id=_6223383_1&course_id=_501780_1) as reference, and add comments to explain your code.\n",
    "\n",
    "Let\n",
    "```python\n",
    "G = {0: [1, 3], 1: [0], 2: [4], 3: [0], 4: [2]}\n",
    "```\n",
    "and print out the value of `canReachA(G, i, j)` for $i = 0, 1, 2$ and $j = 3, 4$.\n",
    "\n",
    "**Note.** Algorithm 1 uses a global variable, which is a fairly bad practice. In Python, a reliable solution is to use an extra argument to pass around the \"global\" variable, and give it a default value so that the caller does not have to know about it.\n",
    "```python\n",
    "def canReachA(GA, i, j, visited=None):\n",
    "    if visited is None:\n",
    "        visited = []\n",
    "    # ... other code ...\n",
    "    # when you reach a recursive call to canReach, pass visited as an argument\n",
    "        canReachA(GA, k, j, visited)\n",
    "    # ... other code ...\n",
    "```"
   ]
  },
  {
   "cell_type": "code",
   "execution_count": 1,
   "metadata": {},
   "outputs": [
    {
     "name": "stdout",
     "output_type": "stream",
     "text": [
      "[1, 3]\n",
      "[0]\n",
      "We can reach vertex 0 from vertex 3: True\n",
      "[1, 3]\n",
      "[0]\n",
      "[0]\n",
      "We can reach vertex 0 from vertex 4: False\n",
      "[0]\n",
      "[1, 3]\n",
      "We can reach vertex 1 from vertex 3: True\n",
      "[0]\n",
      "[1, 3]\n",
      "[0]\n",
      "We can reach vertex 1 from vertex 4: False\n",
      "[4]\n",
      "[2]\n",
      "We can reach vertex 2 from vertex 3: False\n",
      "[4]\n",
      "We can reach vertex 2 from vertex 4: True\n"
     ]
    }
   ],
   "source": [
    "#Define a new graph G by its adjacency list:\n",
    "G = {0: [1, 3], 1: [0], 2: [4], 3: [0], 4: [2]}\n",
    "\n",
    "\"\"\"Given an adjacency list of a graph G and two vertices i & j, this function will check if there exists a path between the two\n",
    "vertices. That is, if there is an edge sequence starting from i and ending at j. It does this recursively and keeps track of\n",
    "visited vertices using a 'global' variable passed around the function.\"\"\"\n",
    "\n",
    "def canReachA(GA, i, j, visited = None):\n",
    "    \n",
    "    #For the very first case, if the visited argument is None, it is the 'parent' call of the function so start with an empty list.\n",
    "    if visited is None:\n",
    "        visited = []\n",
    "    \n",
    "    #If i and j are the same vertex then we have trivially reached j.\n",
    "    if i == j:\n",
    "        return True\n",
    "    \n",
    "    #If we have already visited vertex i, then we must have looped back on ourselves and found all the vertices in this connected component.\n",
    "    if i in visited:\n",
    "        return False\n",
    "    \n",
    "    #If we reach this point in the code it means i is a 'new'/unvisited vertex, so add it to the visited list\n",
    "    visited.append(i)\n",
    "\n",
    "    #Iterate through each vertex, k (adjacent to i), and recursively call canReach. If we can reach j from k, return True\n",
    "    for k in GA[i]:\n",
    "        if canReachA(GA, k, j, visited):\n",
    "            return True\n",
    "    \n",
    "    #If we reach this point then we can't reach j from i, return False.\n",
    "    return False\n",
    "        \n",
    "#Test the function returns what we expect.\n",
    "for i in [0,1,2]:\n",
    "    for j in [3,4]:\n",
    "        print(\"We can reach vertex \" + str(i) + \" from vertex \" + str(j) + \": \" + str(canReachA(G, i, j)))"
   ]
  },
  {
   "cell_type": "markdown",
   "metadata": {},
   "source": [
    "**(b)** Define a function `isConnected(GA)` that takes the adjacency list `GA` of a graph $G$, and returns `True` if $G$ is connected, and `False` otherwise.\n",
    "\n",
    "Add comments to explain your code.\n",
    "\n",
    "Let\n",
    "```python\n",
    "G = {0: [1, 3], 1: [0], 2: [4], 3: [0], 4: [2]}\n",
    "H = {0: [1, 3, 5], 1: [0], 2: [4], 3: [0], 4: [2, 5], 5: [0, 4]}\n",
    "```\n",
    "and print the output of `isConnectedA(G)`, `isConnectedA(H)`.\n",
    "\n",
    "**Note.** Correct solutions will receive a positive mark, but full marks will only be given to solutions that do not need to look at each edge more than once. Look at [Coursework 2](https://minerva.leeds.ac.uk/webapps/blackboard/execute/content/file?cmd=view&mode=designer&content_id=_6227586_1&course_id=_501780_1), Question 5 for ideas."
   ]
  },
  {
   "cell_type": "code",
   "execution_count": 42,
   "metadata": {},
   "outputs": [
    {
     "name": "stdout",
     "output_type": "stream",
     "text": [
      "G is conncted (naive): False\n",
      "G is conncted: False\n",
      "\n",
      "H is conncted (naive): True\n",
      "H is conncted: True\n"
     ]
    }
   ],
   "source": [
    "#Define the above graphs by their adjacency lists.\n",
    "G = {0: [1, 3], 1: [0], 2: [4], 3: [0], 4: [2]}\n",
    "H = {0: [1, 3, 5], 1: [0], 2: [4], 3: [0], 4: [2, 5], 5: [0, 4]}\n",
    "\n",
    "\"\"\"Given an adjacency list of a graph G, this function checks whether the graph is connected. It does this by checking that we\n",
    "can reach every vertex on the graph from every other vertex. That is, if for all vertices i & j, there is a path between i & j.\n",
    "We then look for two vertices i & j such that i is not connected to j and return False if so. If the loop runs through without\n",
    "finding a not connected pair of vertices, the graph must be connected so return True.\n",
    "\n",
    "It should be noted that this approach is incredibly inefficient: it is of order O(n^2). The next function will improve this.\"\"\"\n",
    "\n",
    "def naiveIsConnected(GA):\n",
    "    #For each vertex in GA\n",
    "    for each_vertex in GA:\n",
    "        for each_vertex_2 in GA:\n",
    "            if not canReachA(GA, each_vertex, each_vertex_2):\n",
    "                return False\n",
    "    \n",
    "    #Otherwise,\n",
    "    return True\n",
    "    \n",
    "    \n",
    "\"\"\"To improve the function, we can consider using the connectedness algorithm in the coursework. This tells us we can find a \n",
    "list of vertices connected to any particular vertex. We know that if the set of elements connected to any particular vertex\n",
    "is the same size as the vertex set of G, the graph must be connected.\"\"\"\n",
    "\n",
    "def isConnected(GA):\n",
    "    #Extract the first vertex from the adjacency list of GA and place it in a list\n",
    "    first_vertex = [vertex for vertex in GA.keys()][0]\n",
    "    vertices_list = [first_vertex]\n",
    "    \n",
    "    #Iterate through vertices_list\n",
    "    for each_vertex in vertices_list:\n",
    "        #Generate a list containing the neighbours of each vertex currently in vertices_list\n",
    "        neighbours = [vertex for vertex in GA[each_vertex] for each_vertex in vertices_list]\n",
    "\n",
    "        #For each neighbour of every vertex in vertices_list, if the neighbour is not already in the list, put it in.\n",
    "        for each_neighbour in neighbours:\n",
    "            if each_neighbour not in vertices_list:\n",
    "                vertices_list.append(each_neighbour)\n",
    "    \n",
    "    #At this point, we have generated a list of all the vertices connected to the first vertex in GA. So check if the list\n",
    "    #of this connected component is the vertex set. (NB: this is assigning a boolean to 'connected')\n",
    "    connected = len(vertices_list) == len(GA)\n",
    "    \n",
    "    return connected\n",
    "\n",
    "print(\"G is conncted (naive): \" + str(naiveIsConnected(G)))\n",
    "print(\"G is conncted: \" + str(isConnected(G)))\n",
    "print(\"\") #newline\n",
    "print(\"H is conncted (naive): \" + str(naiveIsConnected(H)))\n",
    "print(\"H is conncted: \" + str((isConnected(H))))"
   ]
  },
  {
   "cell_type": "markdown",
   "metadata": {},
   "source": [
    "<b> Question </b>: Are the comments on my code <i> too </i> extensive? Could some of them be removed and the explanations provided by suitably named variables?"
   ]
  }
 ],
 "metadata": {
  "kernelspec": {
   "display_name": "Python 3",
   "language": "python",
   "name": "python3"
  },
  "language_info": {
   "codemirror_mode": {
    "name": "ipython",
    "version": 3
   },
   "file_extension": ".py",
   "mimetype": "text/x-python",
   "name": "python",
   "nbconvert_exporter": "python",
   "pygments_lexer": "ipython3",
   "version": "3.6.5"
  }
 },
 "nbformat": 4,
 "nbformat_minor": 2
}
